{
 "cells": [
  {
   "cell_type": "code",
   "execution_count": 1,
   "metadata": {},
   "outputs": [],
   "source": [
    "import copy\n"
   ]
  },
  {
   "cell_type": "code",
   "execution_count": 2,
   "metadata": {},
   "outputs": [
    {
     "name": "stdout",
     "output_type": "stream",
     "text": [
      "Original List: [1, 2, 3, [4, 5]]\n",
      "Shallow Copy: [99, 2, 3, [4, 5]]\n",
      "Original List: [1, 2, 3, [99, 5]]\n",
      "Shallow Copy: [99, 2, 3, [99, 5]]\n"
     ]
    }
   ],
   "source": [
    "import copy\n",
    "\n",
    "original_list = [1, 2, 3, [4, 5]]\n",
    "shallow_copy = copy.copy(original_list)\n",
    "\n",
    "# Modifying the shallow copy\n",
    "shallow_copy[0] = 99\n",
    "\n",
    "# Printing both lists\n",
    "print(\"Original List:\", original_list)\n",
    "print(\"Shallow Copy:\", shallow_copy)\n",
    "\n",
    "# Modifying the nested list inside the shallow copy\n",
    "shallow_copy[3][0] = 99\n",
    "\n",
    "# Printing both lists again\n",
    "print(\"Original List:\", original_list)\n",
    "print(\"Shallow Copy:\", shallow_copy)\n"
   ]
  },
  {
   "cell_type": "code",
   "execution_count": 3,
   "metadata": {},
   "outputs": [
    {
     "data": {
      "text/plain": [
       "4"
      ]
     },
     "execution_count": 3,
     "metadata": {},
     "output_type": "execute_result"
    }
   ],
   "source": [
    "10-6"
   ]
  },
  {
   "cell_type": "code",
   "execution_count": 4,
   "metadata": {},
   "outputs": [
    {
     "name": "stdout",
     "output_type": "stream",
     "text": [
      "Original Dict: {'a': 1, 'b': [2, 3, 4]}\n",
      "Shallow Copy: {'a': 99, 'b': [2, 3, 4]}\n",
      "Original Dict: {'a': 1, 'b': [99, 3, 4]}\n",
      "Shallow Copy: {'a': 99, 'b': [99, 3, 4]}\n"
     ]
    }
   ],
   "source": [
    "import copy\n",
    "\n",
    "original_dict = {'a': 1, 'b': [2, 3, 4]}\n",
    "shallow_copy = copy.copy(original_dict)\n",
    "\n",
    "# Modifying the shallow copy\n",
    "shallow_copy['a'] = 99\n",
    "\n",
    "# Printing both dictionaries\n",
    "print(\"Original Dict:\", original_dict)\n",
    "print(\"Shallow Copy:\", shallow_copy)\n",
    "\n",
    "# Modifying the nested list inside the shallow copy\n",
    "shallow_copy['b'][0] = 99\n",
    "\n",
    "# Printing both dictionaries again\n",
    "print(\"Original Dict:\", original_dict)\n",
    "print(\"Shallow Copy:\", shallow_copy)    \n"
   ]
  },
  {
   "cell_type": "code",
   "execution_count": 5,
   "metadata": {},
   "outputs": [
    {
     "name": "stdout",
     "output_type": "stream",
     "text": [
      "[[99, 2, 3], [4, 5, 6]]\n",
      "[[99, 2, 3], [4, 5, 6]]\n"
     ]
    }
   ],
   "source": [
    "import copy\n",
    "\n",
    "original_list = [[1, 2, 3], [4, 5, 6]]\n",
    "shallow_copied_list = copy.copy(original_list)\n",
    "\n",
    "shallow_copied_list[0][0] = 99\n",
    "\n",
    "print(original_list)\n",
    "print(shallow_copied_list)\n"
   ]
  },
  {
   "cell_type": "code",
   "execution_count": 6,
   "metadata": {},
   "outputs": [
    {
     "name": "stdout",
     "output_type": "stream",
     "text": [
      "[[1, 2, 3], [4, 5, 6]]\n",
      "[[99, 2, 3], [4, 5, 6]]\n"
     ]
    }
   ],
   "source": [
    "\n",
    "\n",
    "original_list = [[1, 2, 3], [4, 5, 6]]\n",
    "deep_copied_list = copy.deepcopy(original_list)\n",
    "\n",
    "deep_copied_list[0][0] = 99\n",
    "\n",
    "print(original_list)  \n",
    "print(deep_copied_list)\n"
   ]
  },
  {
   "cell_type": "code",
   "execution_count": 7,
   "metadata": {},
   "outputs": [
    {
     "name": "stdout",
     "output_type": "stream",
     "text": [
      "[[4, 5, 6], [7, 8, 9]]\n",
      "[[4, 5, 6], [7, 8, 88]]\n"
     ]
    }
   ],
   "source": [
    "original_list = [[4, 5, 6], [7, 8, 9]]\n",
    "deep_copied_list = copy.deepcopy(original_list)\n",
    "\n",
    "deep_copied_list[1][2] = 88\n",
    "\n",
    "print(original_list)\n",
    "print(deep_copied_list)"
   ]
  },
  {
   "cell_type": "code",
   "execution_count": 8,
   "metadata": {},
   "outputs": [
    {
     "name": "stdout",
     "output_type": "stream",
     "text": [
      "[[4, 5, 6], [7, 8, 69]]\n",
      "[[4, 5, 6], [7, 8, 69]]\n"
     ]
    }
   ],
   "source": [
    "original_list = [[4, 5, 6], [7, 8, 9]]\n",
    "shallow_copied_list = copy.copy(original_list)\n",
    "\n",
    "shallow_copied_list[1][2] = 69\n",
    "\n",
    "print(original_list)\n",
    "print(shallow_copied_list)"
   ]
  },
  {
   "cell_type": "code",
   "execution_count": 9,
   "metadata": {},
   "outputs": [
    {
     "name": "stdout",
     "output_type": "stream",
     "text": [
      "proposal accepted\n"
     ]
    }
   ],
   "source": [
    "handsome = \"rich\"  # or \"poor\"\n",
    "if handsome == \"rich\":\n",
    "    print(\"proposal accepted\")\n",
    "else:\n",
    "    print(\"not accepted\")\n"
   ]
  },
  {
   "cell_type": "code",
   "execution_count": 10,
   "metadata": {},
   "outputs": [
    {
     "name": "stdout",
     "output_type": "stream",
     "text": [
      "Proposal accepted\n"
     ]
    }
   ],
   "source": [
    "handsome = \"poor\" or \"rich\"\n",
    "if handsome == \"poor\":\n",
    "    print(\"Proposal accepted\")\n",
    "else:\n",
    "    print(\"not accepted\")"
   ]
  },
  {
   "cell_type": "code",
   "execution_count": 11,
   "metadata": {},
   "outputs": [
    {
     "name": "stdout",
     "output_type": "stream",
     "text": [
      "not accepted\n"
     ]
    }
   ],
   "source": [
    "handsome = \"rich\" \"living\" \"lethal\"\n",
    "if handsome == \"lethal\":\n",
    "    print(\"proposal accepted\")\n",
    "else:\n",
    "    print(\"not accepted\")  "
   ]
  },
  {
   "cell_type": "code",
   "execution_count": 12,
   "metadata": {},
   "outputs": [
    {
     "name": "stdout",
     "output_type": "stream",
     "text": [
      "The number is positive\n"
     ]
    }
   ],
   "source": [
    "number = 10\n",
    "\n",
    "if number > 0:\n",
    "    print(\"The number is positive\")\n",
    "elif number == 0:\n",
    "    print(\"The number is zero\")\n",
    "else:\n",
    "    print(\"The number is negative\")      "
   ]
  },
  {
   "cell_type": "code",
   "execution_count": 13,
   "metadata": {},
   "outputs": [
    {
     "name": "stdout",
     "output_type": "stream",
     "text": [
      "The number is negative\n"
     ]
    }
   ],
   "source": [
    "Number = 50\n",
    "\n",
    "if number > 35:\n",
    "    print(\"The number is positive\")\n",
    "elif number == 35:\n",
    "    print(\"the number is thirtyfive\")\n",
    "else:\n",
    "    print(\"The number is negative\")  "
   ]
  },
  {
   "cell_type": "code",
   "execution_count": 14,
   "metadata": {},
   "outputs": [
    {
     "name": "stdout",
     "output_type": "stream",
     "text": [
      "you are eligible to vote\n"
     ]
    }
   ],
   "source": [
    "age = 18\n",
    "\n",
    "if age >= 18:\n",
    "    print(\"you are eligible to vote\")\n",
    "else:\n",
    "    print(\"you are not eligible to vote\")\n"
   ]
  },
  {
   "cell_type": "code",
   "execution_count": 15,
   "metadata": {},
   "outputs": [
    {
     "name": "stdout",
     "output_type": "stream",
     "text": [
      "you are not eligible to vote\n"
     ]
    }
   ],
   "source": [
    "age = 25\n",
    "\n",
    "if age <= 18:\n",
    "    print(\"you are eligible to vote\")\n",
    "else:\n",
    "    print(\"you are not eligible to vote\")"
   ]
  },
  {
   "cell_type": "code",
   "execution_count": 16,
   "metadata": {},
   "outputs": [
    {
     "name": "stdout",
     "output_type": "stream",
     "text": [
      "the list is empty\n"
     ]
    }
   ],
   "source": [
    "my_list = []\n",
    "\n",
    "if my_list:\n",
    "    print(\"The list is not empty\")\n",
    "else:\n",
    "    print(\"the list is empty\")"
   ]
  },
  {
   "cell_type": "code",
   "execution_count": 17,
   "metadata": {},
   "outputs": [
    {
     "name": "stdout",
     "output_type": "stream",
     "text": [
      "\n",
      "Usage:   \n",
      "  C:\\Users\\DELL\\AppData\\Local\\Microsoft\\WindowsApps\\PythonSoftwareFoundation.Python.3.12_qbz5n2kfra8p0\\python.exe -m pip <command> [options]\n",
      "\n",
      "Commands:\n",
      "  install                     Install packages.\n",
      "  download                    Download packages.\n",
      "  uninstall                   Uninstall packages.\n",
      "  freeze                      Output installed packages in requirements format.\n",
      "  inspect                     Inspect the python environment.\n",
      "  list                        List installed packages.\n",
      "  show                        Show information about installed packages.\n",
      "  check                       Verify installed packages have compatible dependencies.\n",
      "  config                      Manage local and global configuration.\n",
      "  search                      Search PyPI for packages.\n",
      "  cache                       Inspect and manage pip's wheel cache.\n",
      "  index                       Inspect information available from package indexes.\n",
      "  wheel                       Build wheels from your requirements.\n",
      "  hash                        Compute hashes of package archives.\n",
      "  completion                  A helper command used for command completion.\n",
      "  debug                       Show information useful for debugging.\n",
      "  help                        Show help for commands.\n",
      "\n",
      "General Options:\n",
      "  -h, --help                  Show help.\n",
      "  --debug                     Let unhandled exceptions propagate outside the\n",
      "                              main subroutine, instead of logging them to\n",
      "                              stderr.\n",
      "  --isolated                  Run pip in an isolated mode, ignoring\n",
      "                              environment variables and user configuration.\n",
      "  --require-virtualenv        Allow pip to only run in a virtual environment;\n",
      "                              exit with an error otherwise.\n",
      "  --python <python>           Run pip with the specified Python interpreter.\n",
      "  -v, --verbose               Give more output. Option is additive, and can be\n",
      "                              used up to 3 times.\n",
      "  -V, --version               Show version and exit.\n",
      "  -q, --quiet                 Give less output. Option is additive, and can be\n",
      "                              used up to 3 times (corresponding to WARNING,\n",
      "                              ERROR, and CRITICAL logging levels).\n",
      "  --log <path>                Path to a verbose appending log.\n",
      "  --no-input                  Disable prompting for input.\n",
      "  --keyring-provider <keyring_provider>\n",
      "                              Enable the credential lookup via the keyring\n",
      "                              library if user input is allowed. Specify which\n",
      "                              mechanism to use [disabled, import, subprocess].\n",
      "                              (default: disabled)\n",
      "  --proxy <proxy>             Specify a proxy in the form\n",
      "                              scheme://[user:passwd@]proxy.server:port.\n",
      "  --retries <retries>         Maximum number of retries each connection should\n",
      "                              attempt (default 5 times).\n",
      "  --timeout <sec>             Set the socket timeout (default 15 seconds).\n",
      "  --exists-action <action>    Default action when a path already exists:\n",
      "                              (s)witch, (i)gnore, (w)ipe, (b)ackup, (a)bort.\n",
      "  --trusted-host <hostname>   Mark this host or host:port pair as trusted,\n",
      "                              even though it does not have valid or any HTTPS.\n",
      "  --cert <path>               Path to PEM-encoded CA certificate bundle. If\n",
      "                              provided, overrides the default. See 'SSL\n",
      "                              Certificate Verification' in pip documentation\n",
      "                              for more information.\n",
      "  --client-cert <path>        Path to SSL client certificate, a single file\n",
      "                              containing the private key and the certificate\n",
      "                              in PEM format.\n",
      "  --cache-dir <dir>           Store the cache data in <dir>.\n",
      "  --no-cache-dir              Disable the cache.\n",
      "  --disable-pip-version-check\n",
      "                              Don't periodically check PyPI to determine\n",
      "                              whether a new version of pip is available for\n",
      "                              download. Implied with --no-index.\n",
      "  --no-color                  Suppress colored output.\n",
      "  --no-python-version-warning\n",
      "                              Silence deprecation warnings for upcoming\n",
      "                              unsupported Pythons.\n",
      "  --use-feature <feature>     Enable new functionality, that may be backward\n",
      "                              incompatible.\n",
      "  --use-deprecated <feature>  Enable deprecated functionality, that will be\n",
      "                              removed in the future.\n",
      "Note: you may need to restart the kernel to use updated packages.\n"
     ]
    }
   ],
   "source": [
    "pip"
   ]
  },
  {
   "cell_type": "code",
   "execution_count": 18,
   "metadata": {},
   "outputs": [
    {
     "name": "stdout",
     "output_type": "stream",
     "text": [
      "it's a nice day to walk\n"
     ]
    }
   ],
   "source": [
    "temperature = 25\n",
    "raining = False\n",
    "\n",
    "if temperature > 20 and not raining:\n",
    "    print(\"it's a nice day to walk\")\n",
    "else:\n",
    "    print(\"maybe stay inside\")    "
   ]
  },
  {
   "cell_type": "code",
   "execution_count": 19,
   "metadata": {},
   "outputs": [
    {
     "name": "stdout",
     "output_type": "stream",
     "text": [
      "maybe you don't go outside\n"
     ]
    }
   ],
   "source": [
    "temperature = 18\n",
    "raining = True\n",
    "\n",
    "if temperature < 25 and not raining:\n",
    "    print(\"it's a nice day to go outside\")\n",
    "else:\n",
    "    print(\"maybe you don't go outside\")"
   ]
  },
  {
   "cell_type": "code",
   "execution_count": 20,
   "metadata": {},
   "outputs": [
    {
     "name": "stdout",
     "output_type": "stream",
     "text": [
      "You got a B!\n"
     ]
    }
   ],
   "source": [
    "score = 85\n",
    "\n",
    "if score >= 60:\n",
    "    if score >= 90:\n",
    "        print(\"You got an A!\")\n",
    "    elif score >= 80:\n",
    "        print(\"You got a B!\")\n",
    "    else:\n",
    "        print(\"You passed!\")\n",
    "else:\n",
    "    print(\"You failed.\")\n"
   ]
  },
  {
   "cell_type": "code",
   "execution_count": 21,
   "metadata": {},
   "outputs": [
    {
     "name": "stdout",
     "output_type": "stream",
     "text": [
      "You failed.\n"
     ]
    }
   ],
   "source": [
    "score = 150\n",
    "if score <= 100:\n",
    "    if score <= 120:\n",
    "        print(\"You got an A!\")\n",
    "    elif score <= 130:\n",
    "        print(\"You got a B!\")\n",
    "    else:\n",
    "        print(\"You passed!\")\n",
    "else:\n",
    "    print(\"You failed.\")                      "
   ]
  },
  {
   "cell_type": "code",
   "execution_count": null,
   "metadata": {},
   "outputs": [],
   "source": [
    "\n"
   ]
  },
  {
   "cell_type": "code",
   "execution_count": 22,
   "metadata": {},
   "outputs": [
    {
     "name": "stdout",
     "output_type": "stream",
     "text": [
      "Table of 2: [2, 4, 6, 8, 10, 12, 14, 16, 18, 20]\n",
      "Table of 3: [3, 6, 9, 12, 15, 18, 21, 24, 27, 30]\n",
      "Table of 4: [4, 8, 12, 16, 20, 24, 28, 32, 36, 40]\n",
      "Table of 5: [5, 10, 15, 20, 25, 30, 35, 40, 45, 50]\n",
      "Table of 6: [6, 12, 18, 24, 30, 36, 42, 48, 54, 60]\n",
      "Table of 7: [7, 14, 21, 28, 35, 42, 49, 56, 63, 70]\n",
      "Table of 8: [8, 16, 24, 32, 40, 48, 56, 64, 72, 80]\n",
      "Table of 9: [9, 18, 27, 36, 45, 54, 63, 72, 81, 90]\n",
      "Table of 10: [10, 20, 30, 40, 50, 60, 70, 80, 90, 100]\n"
     ]
    }
   ],
   "source": [
    "# Corrected function to generate and display the multiplication tables with proper formatting.\n",
    "\n",
    "def generate_tables():\n",
    "    tables = {}\n",
    "    for i in range(2, 11):\n",
    "        # Store the multiplication table as a string\n",
    "        table_name = f\"Table of {i}\"\n",
    "        tables[table_name] = [i * j for j in range(1, 11)]\n",
    "    return tables\n",
    "\n",
    "# Generating the multiplication tables\n",
    "multiplication_tables = generate_tables()\n",
    "\n",
    "# Display the tables\n",
    "for table_name, table_values in multiplication_tables.items():\n",
    "    print(f\"{table_name}: {table_values}\")\n"
   ]
  },
  {
   "cell_type": "code",
   "execution_count": 23,
   "metadata": {},
   "outputs": [
    {
     "name": "stdout",
     "output_type": "stream",
     "text": [
      "2\n",
      "3\n",
      "4\n",
      "5\n",
      "6\n",
      "7\n",
      "8\n",
      "9\n",
      "10\n"
     ]
    }
   ],
   "source": [
    "# 2 to 10\n",
    "\n",
    "for table_number in range(2,11):\n",
    "    print(table_number)"
   ]
  },
  {
   "cell_type": "code",
   "execution_count": null,
   "metadata": {},
   "outputs": [],
   "source": []
  },
  {
   "cell_type": "code",
   "execution_count": 24,
   "metadata": {},
   "outputs": [
    {
     "name": "stdout",
     "output_type": "stream",
     "text": [
      "2 X 1 = 2\n",
      "\n",
      "2 X 2 = 4\n",
      "\n",
      "2 X 3 = 6\n",
      "\n",
      "2 X 4 = 8\n",
      "\n",
      "2 X 5 = 10\n",
      "\n",
      "2 X 6 = 12\n",
      "\n",
      "2 X 7 = 14\n",
      "\n",
      "2 X 8 = 16\n",
      "\n",
      "2 X 9 = 18\n",
      "\n",
      "2 X 10 = 20\n",
      "\n",
      "3 X 1 = 3\n",
      "\n",
      "3 X 2 = 6\n",
      "\n",
      "3 X 3 = 9\n",
      "\n",
      "3 X 4 = 12\n",
      "\n",
      "3 X 5 = 15\n",
      "\n",
      "3 X 6 = 18\n",
      "\n",
      "3 X 7 = 21\n",
      "\n",
      "3 X 8 = 24\n",
      "\n",
      "3 X 9 = 27\n",
      "\n",
      "3 X 10 = 30\n",
      "\n",
      "4 X 1 = 4\n",
      "\n",
      "4 X 2 = 8\n",
      "\n",
      "4 X 3 = 12\n",
      "\n",
      "4 X 4 = 16\n",
      "\n",
      "4 X 5 = 20\n",
      "\n",
      "4 X 6 = 24\n",
      "\n",
      "4 X 7 = 28\n",
      "\n",
      "4 X 8 = 32\n",
      "\n",
      "4 X 9 = 36\n",
      "\n",
      "4 X 10 = 40\n",
      "\n",
      "5 X 1 = 5\n",
      "\n",
      "5 X 2 = 10\n",
      "\n",
      "5 X 3 = 15\n",
      "\n",
      "5 X 4 = 20\n",
      "\n",
      "5 X 5 = 25\n",
      "\n",
      "5 X 6 = 30\n",
      "\n",
      "5 X 7 = 35\n",
      "\n",
      "5 X 8 = 40\n",
      "\n",
      "5 X 9 = 45\n",
      "\n",
      "5 X 10 = 50\n",
      "\n",
      "6 X 1 = 6\n",
      "\n",
      "6 X 2 = 12\n",
      "\n",
      "6 X 3 = 18\n",
      "\n",
      "6 X 4 = 24\n",
      "\n",
      "6 X 5 = 30\n",
      "\n",
      "6 X 6 = 36\n",
      "\n",
      "6 X 7 = 42\n",
      "\n",
      "6 X 8 = 48\n",
      "\n",
      "6 X 9 = 54\n",
      "\n",
      "6 X 10 = 60\n",
      "\n",
      "7 X 1 = 7\n",
      "\n",
      "7 X 2 = 14\n",
      "\n",
      "7 X 3 = 21\n",
      "\n",
      "7 X 4 = 28\n",
      "\n",
      "7 X 5 = 35\n",
      "\n",
      "7 X 6 = 42\n",
      "\n",
      "7 X 7 = 49\n",
      "\n",
      "7 X 8 = 56\n",
      "\n",
      "7 X 9 = 63\n",
      "\n",
      "7 X 10 = 70\n",
      "\n",
      "8 X 1 = 8\n",
      "\n",
      "8 X 2 = 16\n",
      "\n",
      "8 X 3 = 24\n",
      "\n",
      "8 X 4 = 32\n",
      "\n",
      "8 X 5 = 40\n",
      "\n",
      "8 X 6 = 48\n",
      "\n",
      "8 X 7 = 56\n",
      "\n",
      "8 X 8 = 64\n",
      "\n",
      "8 X 9 = 72\n",
      "\n",
      "8 X 10 = 80\n",
      "\n",
      "9 X 1 = 9\n",
      "\n",
      "9 X 2 = 18\n",
      "\n",
      "9 X 3 = 27\n",
      "\n",
      "9 X 4 = 36\n",
      "\n",
      "9 X 5 = 45\n",
      "\n",
      "9 X 6 = 54\n",
      "\n",
      "9 X 7 = 63\n",
      "\n",
      "9 X 8 = 72\n",
      "\n",
      "9 X 9 = 81\n",
      "\n",
      "9 X 10 = 90\n",
      "\n",
      "10 X 1 = 10\n",
      "\n",
      "10 X 2 = 20\n",
      "\n",
      "10 X 3 = 30\n",
      "\n",
      "10 X 4 = 40\n",
      "\n",
      "10 X 5 = 50\n",
      "\n",
      "10 X 6 = 60\n",
      "\n",
      "10 X 7 = 70\n",
      "\n",
      "10 X 8 = 80\n",
      "\n",
      "10 X 9 = 90\n",
      "\n",
      "10 X 10 = 100\n",
      "\n"
     ]
    }
   ],
   "source": [
    "# 2 to 10\n",
    "\n",
    "for table_number in range(2,11):\n",
    "    for inner_val in range(1,11):\n",
    "        print(f\"{table_number} X {inner_val} = {table_number * inner_val}\")\n",
    "        print(\"\")   \n",
    "\n",
    "\n",
    "#2 x 1 = 2\n",
    "# Table_number x  inner_val = output"
   ]
  },
  {
   "cell_type": "code",
   "execution_count": 25,
   "metadata": {},
   "outputs": [
    {
     "data": {
      "text/plain": [
       "-2"
      ]
     },
     "execution_count": 25,
     "metadata": {},
     "output_type": "execute_result"
    }
   ],
   "source": [
    "5-7"
   ]
  },
  {
   "cell_type": "code",
   "execution_count": 26,
   "metadata": {},
   "outputs": [
    {
     "name": "stdout",
     "output_type": "stream",
     "text": [
      "\n"
     ]
    }
   ],
   "source": [
    "condition = \"\"\n",
    "while condition != 'exit()':\n",
    "    user_in = input(\"Enter command: \")\n",
    "    if user_in != 'exit':\n",
    "        print(user_in)\n",
    "    elif user_in == 'exit':\n",
    "        condition = user_in\n",
    "        print(condition)\n",
    "    'ipykernal'\n"
   ]
  },
  {
   "cell_type": "code",
   "execution_count": 2,
   "metadata": {},
   "outputs": [
    {
     "name": "stdout",
     "output_type": "stream",
     "text": [
      "hello\n",
      "world\n",
      "hh\n",
      "Exiting...\n"
     ]
    }
   ],
   "source": [
    "# A simple loop to take user input and print it, exiting on 'exit'\n",
    "\n",
    "condition = ''\n",
    "while condition != 'exit()':\n",
    "    user_i = input(\"Enter command: \")\n",
    "    if user_i != 'exit':  # Changed 'user_in' to 'user_i'\n",
    "        print(user_i)\n",
    "    elif user_i == 'exit':\n",
    "        print(\"Exiting...\")\n",
    "        break  # This will end the loop"
   ]
  },
  {
   "cell_type": "code",
   "execution_count": 1,
   "metadata": {},
   "outputs": [
    {
     "data": {
      "text/plain": [
       "21"
      ]
     },
     "execution_count": 1,
     "metadata": {},
     "output_type": "execute_result"
    }
   ],
   "source": [
    "99-78"
   ]
  },
  {
   "cell_type": "code",
   "execution_count": 57,
   "metadata": {},
   "outputs": [
    {
     "name": "stdout",
     "output_type": "stream",
     "text": [
      "iteration number : 1\n",
      "iteration number : 2\n",
      "iteration number : 3\n",
      "iteration number : 4\n",
      "iteration number : 5\n",
      "iteration number : 6\n",
      "iteration number : 7\n",
      "iteration number : 8\n",
      "iteration number : 9\n",
      "iteration number : 10\n",
      "iteration number : 11\n",
      "iteration number : 12\n",
      "iteration number : 13\n",
      "iteration number : 14\n",
      "iteration number : 15\n",
      "iteration number : 16\n",
      "iteration number : 17\n"
     ]
    }
   ],
   "source": [
    "for number in range(1, 18):\n",
    "    print(f'iteration number : {number}')"
   ]
  },
  {
   "cell_type": "code",
   "execution_count": 58,
   "metadata": {},
   "outputs": [
    {
     "name": "stdout",
     "output_type": "stream",
     "text": [
      "iteration number : 1\n",
      "iteration number : 2\n",
      "iteration number : 3\n",
      "iteration number : 4\n",
      "iteration number : 5\n",
      "iteration number : 6\n",
      "iteration number : 7\n",
      "iteration number : 8\n",
      "iteration number : 9\n",
      "iteration number : 11\n",
      "iteration number : 12\n",
      "iteration number : 13\n",
      "iteration number : 14\n",
      "iteration number : 15\n",
      "iteration number : 16\n",
      "iteration number : 17\n"
     ]
    }
   ],
   "source": [
    "for number in range(1, 18):\n",
    "    if(number ==10):\n",
    "        continue\n",
    "    print(f'iteration number : {number}')"
   ]
  },
  {
   "cell_type": "code",
   "execution_count": 59,
   "metadata": {},
   "outputs": [
    {
     "name": "stdout",
     "output_type": "stream",
     "text": [
      "iteration number : 1\n",
      "iteration number : 2\n",
      "iteration number : 3\n",
      "iteration number : 4\n",
      "iteration number : 5\n",
      "iteration number : 6\n",
      "iteration number : 7\n",
      "iteration number : 8\n",
      "iteration number : 9\n"
     ]
    }
   ],
   "source": [
    "for number in range(1, 18):\n",
    "    if(number ==10):\n",
    "        break\n",
    "    print(f'iteration number : {number}')"
   ]
  },
  {
   "cell_type": "code",
   "execution_count": 56,
   "metadata": {},
   "outputs": [
    {
     "name": "stdout",
     "output_type": "stream",
     "text": [
      " 2 X 1 = 2\n",
      "\n",
      " 2 X 2 = 4\n",
      "\n",
      " 2 X 3 = 6\n",
      "\n",
      " 2 X 4 = 8\n",
      "\n",
      " 2 X 5 = 10\n",
      "\n",
      " 2 X 6 = 12\n",
      "\n",
      " 2 X 7 = 14\n",
      "\n",
      " 2 X 8 = 16\n",
      "\n",
      " 2 X 9 = 18\n",
      "\n",
      " 2 X 10 = 20\n",
      "\n",
      " 3 X 1 = 3\n",
      "\n",
      " 3 X 2 = 6\n",
      "\n",
      " 3 X 3 = 9\n",
      "\n",
      " 3 X 4 = 12\n",
      "\n",
      " 3 X 5 = 15\n",
      "\n",
      " 3 X 6 = 18\n",
      "\n",
      " 3 X 7 = 21\n",
      "\n",
      " 3 X 8 = 24\n",
      "\n",
      " 3 X 9 = 27\n",
      "\n",
      " 3 X 10 = 30\n",
      "\n",
      " 4 X 1 = 4\n",
      "\n",
      " 4 X 2 = 8\n",
      "\n",
      " 4 X 3 = 12\n",
      "\n",
      " 4 X 4 = 16\n",
      "\n",
      " 4 X 5 = 20\n",
      "\n",
      " 4 X 6 = 24\n",
      "\n",
      " 4 X 7 = 28\n",
      "\n",
      " 4 X 8 = 32\n",
      "\n",
      " 4 X 9 = 36\n",
      "\n",
      " 4 X 10 = 40\n",
      "\n",
      " 5 X 1 = 5\n",
      "\n",
      " 5 X 2 = 10\n",
      "\n",
      " 5 X 3 = 15\n",
      "\n",
      " 5 X 4 = 20\n",
      "\n",
      " 5 X 5 = 25\n",
      "\n",
      " 6 X 1 = 6\n",
      "\n",
      " 6 X 2 = 12\n",
      "\n",
      " 6 X 3 = 18\n",
      "\n",
      " 6 X 4 = 24\n",
      "\n",
      " 6 X 5 = 30\n",
      "\n",
      " 6 X 6 = 36\n",
      "\n",
      " 6 X 7 = 42\n",
      "\n",
      " 6 X 8 = 48\n",
      "\n",
      " 6 X 9 = 54\n",
      "\n",
      " 6 X 10 = 60\n",
      "\n",
      " 7 X 1 = 7\n",
      "\n",
      " 7 X 2 = 14\n",
      "\n",
      " 7 X 3 = 21\n",
      "\n",
      " 7 X 4 = 28\n",
      "\n",
      " 7 X 5 = 35\n",
      "\n",
      " 7 X 6 = 42\n",
      "\n",
      " 7 X 7 = 49\n",
      "\n",
      " 7 X 8 = 56\n",
      "\n",
      " 7 X 9 = 63\n",
      "\n",
      " 7 X 10 = 70\n",
      "\n",
      " 8 X 1 = 8\n",
      "\n",
      " 8 X 2 = 16\n",
      "\n",
      " 8 X 3 = 24\n",
      "\n",
      " 8 X 4 = 32\n",
      "\n",
      " 8 X 5 = 40\n",
      "\n",
      " 8 X 6 = 48\n",
      "\n",
      " 8 X 7 = 56\n",
      "\n",
      " 8 X 8 = 64\n",
      "\n",
      " 8 X 9 = 72\n",
      "\n",
      " 8 X 10 = 80\n",
      "\n",
      " 9 X 1 = 9\n",
      "\n",
      " 9 X 2 = 18\n",
      "\n",
      " 9 X 3 = 27\n",
      "\n",
      " 9 X 4 = 36\n",
      "\n",
      " 9 X 5 = 45\n",
      "\n",
      " 9 X 6 = 54\n",
      "\n",
      " 9 X 7 = 63\n",
      "\n",
      " 9 X 8 = 72\n",
      "\n",
      " 9 X 9 = 81\n",
      "\n",
      " 9 X 10 = 90\n",
      "\n"
     ]
    }
   ],
   "source": [
    "# print 2 to 10 table but make sure 5 table only print 1 to 5 \n",
    "\n",
    "for table_number in range(2,10):\n",
    "    for inner_val in range (1,11):\n",
    "        if(table_number == 5 and inner_val > 5):\n",
    "            continue\n",
    "        print(f\" {table_number} X {inner_val} = {table_number * inner_val}\")\n",
    "        print(\"\")"
   ]
  },
  {
   "cell_type": "code",
   "execution_count": 11,
   "metadata": {},
   "outputs": [
    {
     "name": "stdout",
     "output_type": "stream",
     "text": [
      "[4, 16, 36, 64, 100]\n"
     ]
    }
   ],
   "source": [
    "squares : list[int] = []\n",
    "for i in range(1,11):\n",
    "    if i % 2 == 0:\n",
    "        square = i**2\n",
    "        squares.append(square)\n",
    "\n",
    "print(squares)"
   ]
  },
  {
   "cell_type": "code",
   "execution_count": 10,
   "metadata": {},
   "outputs": [
    {
     "name": "stdout",
     "output_type": "stream",
     "text": [
      "[0, 4, 16, 36, 64]\n"
     ]
    }
   ],
   "source": [
    "squares = []\n",
    "\n",
    "for i in range(10):\n",
    "    if i % 2 == 0:\n",
    "        square = i ** 2\n",
    "        squares.append(square)\n",
    "\n",
    "print(squares)\n"
   ]
  },
  {
   "cell_type": "code",
   "execution_count": 61,
   "metadata": {},
   "outputs": [
    {
     "name": "stdout",
     "output_type": "stream",
     "text": [
      "['__add__', '__class__', '__contains__', '__delattr__', '__dir__', '__doc__', '__eq__', '__format__', '__ge__', '__getattribute__', '__getitem__', '__getnewargs__', '__getstate__', '__gt__', '__hash__', '__init__', '__init_subclass__', '__iter__', '__le__', '__len__', '__lt__', '__mod__', '__mul__', '__ne__', '__new__', '__reduce__', '__reduce_ex__', '__repr__', '__rmod__', '__rmul__', '__setattr__', '__sizeof__', '__str__', '__subclasshook__', 'capitalize', 'casefold', 'center', 'count', 'encode', 'endswith', 'expandtabs', 'find', 'format', 'format_map', 'index', 'isalnum', 'isalpha', 'isascii', 'isdecimal', 'isdigit', 'isidentifier', 'islower', 'isnumeric', 'isprintable', 'isspace', 'istitle', 'isupper', 'join', 'ljust', 'lower', 'lstrip', 'maketrans', 'partition', 'removeprefix', 'removesuffix', 'replace', 'rfind', 'rindex', 'rjust', 'rpartition', 'rsplit', 'rstrip', 'split', 'splitlines', 'startswith', 'strip', 'swapcase', 'title', 'translate', 'upper', 'zfill']\n"
     ]
    }
   ],
   "source": [
    "print(dir(str))"
   ]
  },
  {
   "cell_type": "code",
   "execution_count": 62,
   "metadata": {},
   "outputs": [
    {
     "name": "stdout",
     "output_type": "stream",
     "text": [
      "['__add__', '__class__', '__contains__', '__delattr__', '__dir__', '__doc__', '__eq__', '__format__', '__ge__', '__getattribute__', '__getitem__', '__getnewargs__', '__getstate__', '__gt__', '__hash__', '__init__', '__init_subclass__', '__iter__', '__le__', '__len__', '__lt__', '__mod__', '__mul__', '__ne__', '__new__', '__reduce__', '__reduce_ex__', '__repr__', '__rmod__', '__rmul__', '__setattr__', '__sizeof__', '__str__', '__subclasshook__', 'capitalize', 'casefold', 'center', 'count', 'encode', 'endswith', 'expandtabs', 'find', 'format', 'format_map', 'index', 'isalnum', 'isalpha', 'isascii', 'isdecimal', 'isdigit', 'isidentifier', 'islower', 'isnumeric', 'isprintable', 'isspace', 'istitle', 'isupper', 'join', 'ljust', 'lower', 'lstrip', 'maketrans', 'partition', 'removeprefix', 'removesuffix', 'replace', 'rfind', 'rindex', 'rjust', 'rpartition', 'rsplit', 'rstrip', 'split', 'splitlines', 'startswith', 'strip', 'swapcase', 'title', 'translate', 'upper', 'zfill']\n",
      "['capitalize', 'casefold', 'center', 'count', 'encode', 'endswith', 'expandtabs', 'find', 'format', 'format_map', 'index', 'isalnum', 'isalpha', 'isascii', 'isdecimal', 'isdigit', 'isidentifier', 'islower', 'isnumeric', 'isprintable', 'isspace', 'istitle', 'isupper', 'join', 'ljust', 'lower', 'lstrip', 'maketrans', 'partition', 'removeprefix', 'removesuffix', 'replace', 'rfind', 'rindex', 'rjust', 'rpartition', 'rsplit', 'rstrip', 'split', 'splitlines', 'startswith', 'strip', 'swapcase', 'title', 'translate', 'upper', 'zfill']\n"
     ]
    }
   ],
   "source": [
    "print(dir(str))\n",
    "methods = [method for method in dir(str) if '__' not in method]\n",
    "print(methods)"
   ]
  },
  {
   "cell_type": "code",
   "execution_count": 63,
   "metadata": {},
   "outputs": [
    {
     "name": "stdout",
     "output_type": "stream",
     "text": [
      "(1, 2, 3)\n",
      "<class 'tuple'>\n"
     ]
    }
   ],
   "source": [
    "my_tuple = (1,2,3)\n",
    "print(my_tuple)\n",
    "print(type(my_tuple))"
   ]
  },
  {
   "cell_type": "code",
   "execution_count": 64,
   "metadata": {},
   "outputs": [
    {
     "name": "stdout",
     "output_type": "stream",
     "text": [
      "1\n",
      "<class 'int'>\n"
     ]
    }
   ],
   "source": [
    "# my_tuple2 = (1)\n",
    "my_tuple2 = (1)\n",
    "print(my_tuple2)\n",
    "print(type(my_tuple2))"
   ]
  },
  {
   "cell_type": "code",
   "execution_count": 65,
   "metadata": {},
   "outputs": [],
   "source": [
    "my_tuple : tuple[int, ...] = (1,2,3,4,5,6)"
   ]
  },
  {
   "cell_type": "code",
   "execution_count": 1,
   "metadata": {},
   "outputs": [
    {
     "name": "stdout",
     "output_type": "stream",
     "text": [
      "1\n"
     ]
    }
   ],
   "source": [
    "tup : tuple[int, ...] = (1,2,3,4,5,6)\n",
    "print(tup[0])"
   ]
  },
  {
   "cell_type": "code",
   "execution_count": null,
   "metadata": {},
   "outputs": [],
   "source": []
  },
  {
   "cell_type": "code",
   "execution_count": 12,
   "metadata": {},
   "outputs": [
    {
     "data": {
      "text/plain": [
       "5"
      ]
     },
     "execution_count": 12,
     "metadata": {},
     "output_type": "execute_result"
    }
   ],
   "source": [
    "10-5"
   ]
  },
  {
   "cell_type": "code",
   "execution_count": 1,
   "metadata": {},
   "outputs": [
    {
     "name": "stdout",
     "output_type": "stream",
     "text": [
      "Defaulting to user installation because normal site-packages is not writeable\n",
      "Requirement already satisfied: pillow in c:\\users\\dell\\appdata\\local\\packages\\pythonsoftwarefoundation.python.3.12_qbz5n2kfra8p0\\localcache\\local-packages\\python312\\site-packages (10.4.0)\n",
      "Note: you may need to restart the kernel to use updated packages.\n"
     ]
    }
   ],
   "source": [
    "pip install pillow"
   ]
  },
  {
   "cell_type": "code",
   "execution_count": 2,
   "metadata": {},
   "outputs": [],
   "source": [
    "from PIL import Image, ImageDraw\n",
    "width, height = 200, 200\n",
    "image = Image.new('RGB', (width, height), 'white')\n",
    "draw = ImageDraw.Draw(image)\n",
    "draw.rectangle([50,50,150,150], fill='red')\n",
    "image.save('example_image.png')\n",
    "image.show()"
   ]
  },
  {
   "cell_type": "code",
   "execution_count": 15,
   "metadata": {},
   "outputs": [
    {
     "name": "stdout",
     "output_type": "stream",
     "text": [
      "Collecting matplotlib\n",
      "  Downloading matplotlib-3.9.2-cp312-cp312-win_amd64.whl.metadata (11 kB)\n",
      "Collecting contourpy>=1.0.1 (from matplotlib)\n",
      "  Downloading contourpy-1.3.0-cp312-cp312-win_amd64.whl.metadata (5.4 kB)\n",
      "Collecting cycler>=0.10 (from matplotlib)\n",
      "  Downloading cycler-0.12.1-py3-none-any.whl.metadata (3.8 kB)\n",
      "Collecting fonttools>=4.22.0 (from matplotlib)\n",
      "  Downloading fonttools-4.53.1-cp312-cp312-win_amd64.whl.metadata (165 kB)\n",
      "Collecting kiwisolver>=1.3.1 (from matplotlib)\n",
      "  Downloading kiwisolver-1.4.7-cp312-cp312-win_amd64.whl.metadata (6.4 kB)\n",
      "Collecting numpy>=1.23 (from matplotlib)\n",
      "  Downloading numpy-2.1.1-cp312-cp312-win_amd64.whl.metadata (59 kB)\n",
      "Requirement already satisfied: packaging>=20.0 in c:\\users\\dell\\appdata\\roaming\\python\\python312\\site-packages (from matplotlib) (24.1)\n",
      "Requirement already satisfied: pillow>=8 in c:\\users\\dell\\appdata\\local\\programs\\python\\python312\\lib\\site-packages (from matplotlib) (10.4.0)\n",
      "Collecting pyparsing>=2.3.1 (from matplotlib)\n",
      "  Downloading pyparsing-3.1.4-py3-none-any.whl.metadata (5.1 kB)\n",
      "Requirement already satisfied: python-dateutil>=2.7 in c:\\users\\dell\\appdata\\roaming\\python\\python312\\site-packages (from matplotlib) (2.9.0.post0)\n",
      "Requirement already satisfied: six>=1.5 in c:\\users\\dell\\appdata\\roaming\\python\\python312\\site-packages (from python-dateutil>=2.7->matplotlib) (1.16.0)\n",
      "Downloading matplotlib-3.9.2-cp312-cp312-win_amd64.whl (7.8 MB)\n",
      "   ---------------------------------------- 0.0/7.8 MB ? eta -:--:--\n",
      "   -- ------------------------------------- 0.5/7.8 MB 8.5 MB/s eta 0:00:01\n",
      "   ------------ --------------------------- 2.4/7.8 MB 7.9 MB/s eta 0:00:01\n",
      "   ---------------------------------- ----- 6.8/7.8 MB 13.5 MB/s eta 0:00:01\n",
      "   ---------------------------------------- 7.8/7.8 MB 13.5 MB/s eta 0:00:00\n",
      "Downloading contourpy-1.3.0-cp312-cp312-win_amd64.whl (218 kB)\n",
      "Downloading cycler-0.12.1-py3-none-any.whl (8.3 kB)\n",
      "Downloading fonttools-4.53.1-cp312-cp312-win_amd64.whl (2.2 MB)\n",
      "   ---------------------------------------- 0.0/2.2 MB ? eta -:--:--\n",
      "   ---------------------------------------- 2.2/2.2 MB 30.7 MB/s eta 0:00:00\n",
      "Downloading kiwisolver-1.4.7-cp312-cp312-win_amd64.whl (55 kB)\n",
      "Downloading numpy-2.1.1-cp312-cp312-win_amd64.whl (12.6 MB)\n",
      "   ---------------------------------------- 0.0/12.6 MB ? eta -:--:--\n",
      "   ------------ --------------------------- 3.9/12.6 MB 23.4 MB/s eta 0:00:01\n",
      "   ------------ --------------------------- 3.9/12.6 MB 23.4 MB/s eta 0:00:01\n",
      "   ------------ --------------------------- 3.9/12.6 MB 23.4 MB/s eta 0:00:01\n",
      "   ------------------------------------- -- 11.8/12.6 MB 14.2 MB/s eta 0:00:01\n",
      "   ---------------------------------------- 12.6/12.6 MB 13.3 MB/s eta 0:00:00\n",
      "Downloading pyparsing-3.1.4-py3-none-any.whl (104 kB)\n",
      "Installing collected packages: pyparsing, numpy, kiwisolver, fonttools, cycler, contourpy, matplotlib\n",
      "Successfully installed contourpy-1.3.0 cycler-0.12.1 fonttools-4.53.1 kiwisolver-1.4.7 matplotlib-3.9.2 numpy-2.1.1 pyparsing-3.1.4\n",
      "Note: you may need to restart the kernel to use updated packages.\n"
     ]
    },
    {
     "name": "stderr",
     "output_type": "stream",
     "text": [
      "  WARNING: The scripts f2py.exe and numpy-config.exe are installed in 'c:\\Users\\DELL\\AppData\\Local\\Programs\\Python\\Python312\\Scripts' which is not on PATH.\n",
      "  Consider adding this directory to PATH or, if you prefer to suppress this warning, use --no-warn-script-location.\n",
      "  WARNING: The scripts fonttools.exe, pyftmerge.exe, pyftsubset.exe and ttx.exe are installed in 'c:\\Users\\DELL\\AppData\\Local\\Programs\\Python\\Python312\\Scripts' which is not on PATH.\n",
      "  Consider adding this directory to PATH or, if you prefer to suppress this warning, use --no-warn-script-location.\n"
     ]
    }
   ],
   "source": [
    "pip install matplotlib"
   ]
  },
  {
   "cell_type": "code",
   "execution_count": 2,
   "metadata": {},
   "outputs": [
    {
     "data": {
      "image/png": "[encoded data removed]",
      "text/plain": [
       "<Figure size 640x480 with 1 Axes>"
      ]
     },
     "metadata": {},
     "output_type": "display_data"
    }
   ],
   "source": [
    "import matplotlib.pyplot as plt\n",
    "import numpy as np\n",
    "data = np.random.rand(10, 10)\n",
    "plt.imshow(data, cmap='viridis', interpolation='nearest')\n",
    "plt.savefig('example_image.png')\n",
    "plt.show()"
   ]
  },
  {
   "cell_type": "code",
   "execution_count": 3,
   "metadata": {},
   "outputs": [
    {
     "name": "stdout",
     "output_type": "stream",
     "text": [
      "Collecting opencv-python\n",
      "  Downloading opencv_python-4.10.0.84-cp37-abi3-win_amd64.whl.metadata (20 kB)\n",
      "Requirement already satisfied: numpy>=1.21.2 in c:\\users\\dell\\appdata\\local\\programs\\python\\python312\\lib\\site-packages (from opencv-python) (2.1.1)\n",
      "Downloading opencv_python-4.10.0.84-cp37-abi3-win_amd64.whl (38.8 MB)\n",
      "   ---------------------------------------- 0.0/38.8 MB ? eta -:--:--\n",
      "   ---------------------------------------- 0.0/38.8 MB ? eta -:--:--\n",
      "   ---------------------------------------- 0.3/38.8 MB ? eta -:--:--\n",
      "   - -------------------------------------- 1.0/38.8 MB 2.8 MB/s eta 0:00:14\n",
      "   -- ------------------------------------- 2.1/38.8 MB 3.7 MB/s eta 0:00:11\n",
      "   --- ------------------------------------ 3.1/38.8 MB 4.1 MB/s eta 0:00:09\n",
      "   ---- ----------------------------------- 4.2/38.8 MB 4.3 MB/s eta 0:00:09\n",
      "   ---- ----------------------------------- 4.7/38.8 MB 3.9 MB/s eta 0:00:09\n",
      "   ----- ---------------------------------- 5.2/38.8 MB 4.0 MB/s eta 0:00:09\n",
      "   ------ --------------------------------- 6.3/38.8 MB 3.9 MB/s eta 0:00:09\n",
      "   ------- -------------------------------- 7.3/38.8 MB 4.0 MB/s eta 0:00:08\n",
      "   ------- -------------------------------- 7.6/38.8 MB 4.0 MB/s eta 0:00:08\n",
      "   -------- ------------------------------- 7.9/38.8 MB 3.5 MB/s eta 0:00:09\n",
      "   -------- ------------------------------- 8.1/38.8 MB 3.5 MB/s eta 0:00:09\n",
      "   -------- ------------------------------- 8.1/38.8 MB 3.5 MB/s eta 0:00:09\n",
      "   -------- ------------------------------- 8.1/38.8 MB 3.5 MB/s eta 0:00:09\n",
      "   -------- ------------------------------- 8.1/38.8 MB 3.5 MB/s eta 0:00:09\n",
      "   -------- ------------------------------- 8.4/38.8 MB 2.5 MB/s eta 0:00:12\n",
      "   -------- ------------------------------- 8.7/38.8 MB 2.5 MB/s eta 0:00:13\n",
      "   --------- ------------------------------ 9.2/38.8 MB 2.4 MB/s eta 0:00:13\n",
      "   ---------- ----------------------------- 10.2/38.8 MB 2.6 MB/s eta 0:00:11\n",
      "   ----------- ---------------------------- 11.3/38.8 MB 2.7 MB/s eta 0:00:11\n",
      "   ------------ --------------------------- 12.1/38.8 MB 2.8 MB/s eta 0:00:10\n",
      "   ------------- -------------------------- 12.8/38.8 MB 2.8 MB/s eta 0:00:10\n",
      "   -------------- ------------------------- 13.9/38.8 MB 2.9 MB/s eta 0:00:09\n",
      "   --------------- ------------------------ 14.7/38.8 MB 2.9 MB/s eta 0:00:09\n",
      "   ---------------- ----------------------- 15.7/38.8 MB 3.0 MB/s eta 0:00:08\n",
      "   ----------------- ---------------------- 16.5/38.8 MB 3.0 MB/s eta 0:00:08\n",
      "   ------------------ --------------------- 17.6/38.8 MB 3.1 MB/s eta 0:00:07\n",
      "   ------------------ --------------------- 18.4/38.8 MB 3.1 MB/s eta 0:00:07\n",
      "   ------------------- -------------------- 19.1/38.8 MB 3.1 MB/s eta 0:00:07\n",
      "   -------------------- ------------------- 19.7/38.8 MB 3.1 MB/s eta 0:00:07\n",
      "   --------------------- ------------------ 20.7/38.8 MB 3.2 MB/s eta 0:00:06\n",
      "   --------------------- ------------------ 21.2/38.8 MB 3.2 MB/s eta 0:00:06\n",
      "   ---------------------- ----------------- 21.5/38.8 MB 3.2 MB/s eta 0:00:06\n",
      "   ---------------------- ----------------- 21.5/38.8 MB 3.2 MB/s eta 0:00:06\n",
      "   ----------------------- ---------------- 22.5/38.8 MB 3.1 MB/s eta 0:00:06\n",
      "   ------------------------ --------------- 23.6/38.8 MB 3.1 MB/s eta 0:00:05\n",
      "   ------------------------ --------------- 24.1/38.8 MB 3.1 MB/s eta 0:00:05\n",
      "   ------------------------ --------------- 24.1/38.8 MB 3.1 MB/s eta 0:00:05\n",
      "   ------------------------ --------------- 24.1/38.8 MB 3.1 MB/s eta 0:00:05\n",
      "   ------------------------ --------------- 24.1/38.8 MB 3.1 MB/s eta 0:00:05\n",
      "   ------------------------ --------------- 24.1/38.8 MB 3.1 MB/s eta 0:00:05\n",
      "   ------------------------ --------------- 24.1/38.8 MB 3.1 MB/s eta 0:00:05\n",
      "   ------------------------ --------------- 24.1/38.8 MB 3.1 MB/s eta 0:00:05\n",
      "   ------------------------ --------------- 24.1/38.8 MB 3.1 MB/s eta 0:00:05\n",
      "   ------------------------ --------------- 24.1/38.8 MB 3.1 MB/s eta 0:00:05\n",
      "   ------------------------ --------------- 24.1/38.8 MB 3.1 MB/s eta 0:00:05\n",
      "   ------------------------ --------------- 24.1/38.8 MB 3.1 MB/s eta 0:00:05\n",
      "   ------------------------ --------------- 24.1/38.8 MB 3.1 MB/s eta 0:00:05\n",
      "   ------------------------ --------------- 24.1/38.8 MB 3.1 MB/s eta 0:00:05\n",
      "   ------------------------ --------------- 24.1/38.8 MB 3.1 MB/s eta 0:00:05\n",
      "   ------------------------ --------------- 24.1/38.8 MB 3.1 MB/s eta 0:00:05\n",
      "   ------------------------ --------------- 24.1/38.8 MB 3.1 MB/s eta 0:00:05\n",
      "   ------------------------ --------------- 24.1/38.8 MB 3.1 MB/s eta 0:00:05\n",
      "   ------------------------ --------------- 24.1/38.8 MB 3.1 MB/s eta 0:00:05\n",
      "   ------------------------ --------------- 24.1/38.8 MB 3.1 MB/s eta 0:00:05\n",
      "   ------------------------ --------------- 24.1/38.8 MB 3.1 MB/s eta 0:00:05\n",
      "   ------------------------ --------------- 24.1/38.8 MB 3.1 MB/s eta 0:00:05\n",
      "   ------------------------- -------------- 24.4/38.8 MB 2.0 MB/s eta 0:00:08\n",
      "   ------------------------- -------------- 24.4/38.8 MB 2.0 MB/s eta 0:00:08\n",
      "   ------------------------- -------------- 24.4/38.8 MB 2.0 MB/s eta 0:00:08\n",
      "   ------------------------- -------------- 24.4/38.8 MB 2.0 MB/s eta 0:00:08\n",
      "   ------------------------- -------------- 24.4/38.8 MB 2.0 MB/s eta 0:00:08\n",
      "   ------------------------- -------------- 24.4/38.8 MB 2.0 MB/s eta 0:00:08\n",
      "   ------------------------- -------------- 24.4/38.8 MB 2.0 MB/s eta 0:00:08\n",
      "   ------------------------- -------------- 24.4/38.8 MB 2.0 MB/s eta 0:00:08\n",
      "   ------------------------- -------------- 24.4/38.8 MB 2.0 MB/s eta 0:00:08\n",
      "   ------------------------- -------------- 24.6/38.8 MB 1.7 MB/s eta 0:00:09\n",
      "   ------------------------- -------------- 24.6/38.8 MB 1.7 MB/s eta 0:00:09\n",
      "   ------------------------- -------------- 24.6/38.8 MB 1.7 MB/s eta 0:00:09\n",
      "   ------------------------- -------------- 24.6/38.8 MB 1.7 MB/s eta 0:00:09\n",
      "   ------------------------- -------------- 24.9/38.8 MB 1.7 MB/s eta 0:00:09\n",
      "   ------------------------- -------------- 24.9/38.8 MB 1.7 MB/s eta 0:00:09\n",
      "   ------------------------- -------------- 24.9/38.8 MB 1.7 MB/s eta 0:00:09\n",
      "   ------------------------- -------------- 24.9/38.8 MB 1.7 MB/s eta 0:00:09\n",
      "   ------------------------- -------------- 24.9/38.8 MB 1.7 MB/s eta 0:00:09\n",
      "   ------------------------- -------------- 25.2/38.8 MB 1.6 MB/s eta 0:00:09\n",
      "   ------------------------- -------------- 25.2/38.8 MB 1.6 MB/s eta 0:00:09\n",
      "   -------------------------- ------------- 25.4/38.8 MB 1.5 MB/s eta 0:00:09\n",
      "   -------------------------- ------------- 25.7/38.8 MB 1.5 MB/s eta 0:00:09\n",
      "   -------------------------- ------------- 25.7/38.8 MB 1.5 MB/s eta 0:00:09\n",
      "   -------------------------- ------------- 26.0/38.8 MB 1.5 MB/s eta 0:00:09\n",
      "   -------------------------- ------------- 26.0/38.8 MB 1.5 MB/s eta 0:00:09\n",
      "   --------------------------- ------------ 26.5/38.8 MB 1.5 MB/s eta 0:00:09\n",
      "   ---------------------------- ----------- 27.3/38.8 MB 1.5 MB/s eta 0:00:08\n",
      "   ----------------------------- ---------- 28.3/38.8 MB 1.6 MB/s eta 0:00:07\n",
      "   ----------------------------- ---------- 28.6/38.8 MB 1.6 MB/s eta 0:00:07\n",
      "   ----------------------------- ---------- 29.1/38.8 MB 1.6 MB/s eta 0:00:07\n",
      "   ------------------------------ --------- 29.6/38.8 MB 1.6 MB/s eta 0:00:06\n",
      "   ------------------------------ --------- 29.9/38.8 MB 1.6 MB/s eta 0:00:06\n",
      "   ------------------------------- -------- 30.1/38.8 MB 1.6 MB/s eta 0:00:06\n",
      "   ------------------------------- -------- 30.1/38.8 MB 1.6 MB/s eta 0:00:06\n",
      "   ------------------------------- -------- 30.1/38.8 MB 1.6 MB/s eta 0:00:06\n",
      "   ------------------------------- -------- 30.1/38.8 MB 1.6 MB/s eta 0:00:06\n",
      "   ------------------------------- -------- 30.1/38.8 MB 1.6 MB/s eta 0:00:06\n",
      "   ------------------------------- -------- 30.4/38.8 MB 1.5 MB/s eta 0:00:06\n",
      "   ------------------------------- -------- 30.7/38.8 MB 1.5 MB/s eta 0:00:06\n",
      "   ------------------------------- -------- 30.7/38.8 MB 1.5 MB/s eta 0:00:06\n",
      "   ------------------------------- -------- 30.7/38.8 MB 1.5 MB/s eta 0:00:06\n",
      "   ------------------------------- -------- 30.7/38.8 MB 1.5 MB/s eta 0:00:06\n",
      "   ------------------------------- -------- 30.7/38.8 MB 1.5 MB/s eta 0:00:06\n",
      "   ------------------------------- -------- 30.7/38.8 MB 1.5 MB/s eta 0:00:06\n",
      "   ------------------------------- -------- 30.7/38.8 MB 1.5 MB/s eta 0:00:06\n",
      "   ------------------------------- -------- 30.7/38.8 MB 1.5 MB/s eta 0:00:06\n",
      "   ------------------------------- -------- 30.7/38.8 MB 1.5 MB/s eta 0:00:06\n",
      "   ------------------------------- -------- 30.7/38.8 MB 1.5 MB/s eta 0:00:06\n",
      "   ------------------------------- -------- 30.7/38.8 MB 1.5 MB/s eta 0:00:06\n",
      "   ------------------------------- -------- 30.7/38.8 MB 1.5 MB/s eta 0:00:06\n",
      "   ------------------------------- -------- 30.7/38.8 MB 1.5 MB/s eta 0:00:06\n",
      "   ------------------------------- -------- 30.7/38.8 MB 1.5 MB/s eta 0:00:06\n",
      "   ------------------------------- -------- 30.9/38.8 MB 1.3 MB/s eta 0:00:06\n",
      "   -------------------------------- ------- 31.2/38.8 MB 1.3 MB/s eta 0:00:06\n",
      "   -------------------------------- ------- 31.5/38.8 MB 1.3 MB/s eta 0:00:06\n",
      "   -------------------------------- ------- 31.7/38.8 MB 1.3 MB/s eta 0:00:06\n",
      "   --------------------------------- ------ 32.2/38.8 MB 1.3 MB/s eta 0:00:05\n",
      "   ---------------------------------- ----- 33.0/38.8 MB 1.3 MB/s eta 0:00:05\n",
      "   ---------------------------------- ----- 33.6/38.8 MB 1.4 MB/s eta 0:00:04\n",
      "   ----------------------------------- ---- 34.3/38.8 MB 1.4 MB/s eta 0:00:04\n",
      "   ----------------------------------- ---- 34.6/38.8 MB 1.4 MB/s eta 0:00:04\n",
      "   ------------------------------------ --- 35.1/38.8 MB 1.4 MB/s eta 0:00:03\n",
      "   ------------------------------------ --- 35.7/38.8 MB 1.4 MB/s eta 0:00:03\n",
      "   ------------------------------------- -- 36.2/38.8 MB 1.4 MB/s eta 0:00:02\n",
      "   -------------------------------------- - 37.0/38.8 MB 1.4 MB/s eta 0:00:02\n",
      "   -------------------------------------- - 37.0/38.8 MB 1.4 MB/s eta 0:00:02\n",
      "   -------------------------------------- - 37.5/38.8 MB 1.4 MB/s eta 0:00:01\n",
      "   ---------------------------------------  38.3/38.8 MB 1.4 MB/s eta 0:00:01\n",
      "   ---------------------------------------  38.8/38.8 MB 1.4 MB/s eta 0:00:01\n",
      "   ---------------------------------------- 38.8/38.8 MB 1.4 MB/s eta 0:00:00\n",
      "Installing collected packages: opencv-python\n",
      "Successfully installed opencv-python-4.10.0.84\n",
      "Note: you may need to restart the kernel to use updated packages.\n"
     ]
    }
   ],
   "source": [
    "pip install opencv-python"
   ]
  },
  {
   "cell_type": "code",
   "execution_count": 1,
   "metadata": {},
   "outputs": [],
   "source": [
    "import cv2\n",
    "import numpy as np\n",
    "width, height = 200, 200\n",
    "image = np.zeros((height, width, 3), dtype=np.uint8)\n",
    "cv2.rectangle(image, (50,50),(150,150),(255,0,0), -1)\n",
    "\n",
    "cv2.imwrite('example_image.png', image)\n",
    "cv2.imshow('Image', image)\n",
    "cv2.waitKey(0)\n",
    "cv2.destroyAllWindows()\n",
    "\n"
   ]
  },
  {
   "cell_type": "code",
   "execution_count": 4,
   "metadata": {},
   "outputs": [
    {
     "name": "stdout",
     "output_type": "stream",
     "text": [
      "Collecting tensorflow\n",
      "  Downloading tensorflow-2.17.0-cp312-cp312-win_amd64.whl.metadata (3.2 kB)\n",
      "Collecting tensorflow-intel==2.17.0 (from tensorflow)\n",
      "  Downloading tensorflow_intel-2.17.0-cp312-cp312-win_amd64.whl.metadata (5.0 kB)\n",
      "Collecting absl-py>=1.0.0 (from tensorflow-intel==2.17.0->tensorflow)\n",
      "  Downloading absl_py-2.1.0-py3-none-any.whl.metadata (2.3 kB)\n",
      "Collecting astunparse>=1.6.0 (from tensorflow-intel==2.17.0->tensorflow)\n",
      "  Downloading astunparse-1.6.3-py2.py3-none-any.whl.metadata (4.4 kB)\n",
      "Collecting flatbuffers>=24.3.25 (from tensorflow-intel==2.17.0->tensorflow)\n",
      "  Downloading flatbuffers-24.3.25-py2.py3-none-any.whl.metadata (850 bytes)\n",
      "Collecting gast!=0.5.0,!=0.5.1,!=0.5.2,>=0.2.1 (from tensorflow-intel==2.17.0->tensorflow)\n",
      "  Downloading gast-0.6.0-py3-none-any.whl.metadata (1.3 kB)\n",
      "Collecting google-pasta>=0.1.1 (from tensorflow-intel==2.17.0->tensorflow)\n",
      "  Downloading google_pasta-0.2.0-py3-none-any.whl.metadata (814 bytes)\n",
      "Collecting h5py>=3.10.0 (from tensorflow-intel==2.17.0->tensorflow)\n",
      "  Downloading h5py-3.11.0-cp312-cp312-win_amd64.whl.metadata (2.5 kB)\n",
      "Collecting libclang>=13.0.0 (from tensorflow-intel==2.17.0->tensorflow)\n",
      "  Downloading libclang-18.1.1-py2.py3-none-win_amd64.whl.metadata (5.3 kB)\n",
      "Collecting ml-dtypes<0.5.0,>=0.3.1 (from tensorflow-intel==2.17.0->tensorflow)\n",
      "  Downloading ml_dtypes-0.4.1-cp312-cp312-win_amd64.whl.metadata (20 kB)\n",
      "Collecting opt-einsum>=2.3.2 (from tensorflow-intel==2.17.0->tensorflow)\n",
      "  Downloading opt_einsum-3.3.0-py3-none-any.whl.metadata (6.5 kB)\n",
      "Requirement already satisfied: packaging in c:\\users\\dell\\appdata\\roaming\\python\\python312\\site-packages (from tensorflow-intel==2.17.0->tensorflow) (24.1)\n",
      "Collecting protobuf!=4.21.0,!=4.21.1,!=4.21.2,!=4.21.3,!=4.21.4,!=4.21.5,<5.0.0dev,>=3.20.3 (from tensorflow-intel==2.17.0->tensorflow)\n",
      "  Downloading protobuf-4.25.4-cp310-abi3-win_amd64.whl.metadata (541 bytes)\n",
      "Collecting requests<3,>=2.21.0 (from tensorflow-intel==2.17.0->tensorflow)\n",
      "  Downloading requests-2.32.3-py3-none-any.whl.metadata (4.6 kB)\n",
      "Collecting setuptools (from tensorflow-intel==2.17.0->tensorflow)\n",
      "  Downloading setuptools-75.1.0-py3-none-any.whl.metadata (6.9 kB)\n",
      "Requirement already satisfied: six>=1.12.0 in c:\\users\\dell\\appdata\\roaming\\python\\python312\\site-packages (from tensorflow-intel==2.17.0->tensorflow) (1.16.0)\n",
      "Collecting termcolor>=1.1.0 (from tensorflow-intel==2.17.0->tensorflow)\n",
      "  Downloading termcolor-2.4.0-py3-none-any.whl.metadata (6.1 kB)\n",
      "Collecting typing-extensions>=3.6.6 (from tensorflow-intel==2.17.0->tensorflow)\n",
      "  Downloading typing_extensions-4.12.2-py3-none-any.whl.metadata (3.0 kB)\n",
      "Collecting wrapt>=1.11.0 (from tensorflow-intel==2.17.0->tensorflow)\n",
      "  Downloading wrapt-1.16.0-cp312-cp312-win_amd64.whl.metadata (6.8 kB)\n",
      "Collecting grpcio<2.0,>=1.24.3 (from tensorflow-intel==2.17.0->tensorflow)\n",
      "  Downloading grpcio-1.66.1-cp312-cp312-win_amd64.whl.metadata (4.0 kB)\n",
      "Collecting tensorboard<2.18,>=2.17 (from tensorflow-intel==2.17.0->tensorflow)\n",
      "  Downloading tensorboard-2.17.1-py3-none-any.whl.metadata (1.6 kB)\n",
      "Collecting keras>=3.2.0 (from tensorflow-intel==2.17.0->tensorflow)\n",
      "  Downloading keras-3.5.0-py3-none-any.whl.metadata (5.8 kB)\n",
      "Collecting numpy<2.0.0,>=1.26.0 (from tensorflow-intel==2.17.0->tensorflow)\n",
      "  Downloading numpy-1.26.4-cp312-cp312-win_amd64.whl.metadata (61 kB)\n",
      "Collecting wheel<1.0,>=0.23.0 (from astunparse>=1.6.0->tensorflow-intel==2.17.0->tensorflow)\n",
      "  Downloading wheel-0.44.0-py3-none-any.whl.metadata (2.3 kB)\n",
      "Collecting rich (from keras>=3.2.0->tensorflow-intel==2.17.0->tensorflow)\n",
      "  Downloading rich-13.8.1-py3-none-any.whl.metadata (18 kB)\n",
      "Collecting namex (from keras>=3.2.0->tensorflow-intel==2.17.0->tensorflow)\n",
      "  Downloading namex-0.0.8-py3-none-any.whl.metadata (246 bytes)\n",
      "Collecting optree (from keras>=3.2.0->tensorflow-intel==2.17.0->tensorflow)\n",
      "  Downloading optree-0.12.1-cp312-cp312-win_amd64.whl.metadata (48 kB)\n",
      "Collecting charset-normalizer<4,>=2 (from requests<3,>=2.21.0->tensorflow-intel==2.17.0->tensorflow)\n",
      "  Downloading charset_normalizer-3.3.2-cp312-cp312-win_amd64.whl.metadata (34 kB)\n",
      "Collecting idna<4,>=2.5 (from requests<3,>=2.21.0->tensorflow-intel==2.17.0->tensorflow)\n",
      "  Downloading idna-3.10-py3-none-any.whl.metadata (10 kB)\n",
      "Collecting urllib3<3,>=1.21.1 (from requests<3,>=2.21.0->tensorflow-intel==2.17.0->tensorflow)\n",
      "  Downloading urllib3-2.2.3-py3-none-any.whl.metadata (6.5 kB)\n",
      "Collecting certifi>=2017.4.17 (from requests<3,>=2.21.0->tensorflow-intel==2.17.0->tensorflow)\n",
      "  Downloading certifi-2024.8.30-py3-none-any.whl.metadata (2.2 kB)\n",
      "Collecting markdown>=2.6.8 (from tensorboard<2.18,>=2.17->tensorflow-intel==2.17.0->tensorflow)\n",
      "  Downloading Markdown-3.7-py3-none-any.whl.metadata (7.0 kB)\n",
      "Collecting tensorboard-data-server<0.8.0,>=0.7.0 (from tensorboard<2.18,>=2.17->tensorflow-intel==2.17.0->tensorflow)\n",
      "  Downloading tensorboard_data_server-0.7.2-py3-none-any.whl.metadata (1.1 kB)\n",
      "Collecting werkzeug>=1.0.1 (from tensorboard<2.18,>=2.17->tensorflow-intel==2.17.0->tensorflow)\n",
      "  Downloading werkzeug-3.0.4-py3-none-any.whl.metadata (3.7 kB)\n",
      "Collecting MarkupSafe>=2.1.1 (from werkzeug>=1.0.1->tensorboard<2.18,>=2.17->tensorflow-intel==2.17.0->tensorflow)\n",
      "  Downloading MarkupSafe-2.1.5-cp312-cp312-win_amd64.whl.metadata (3.1 kB)\n",
      "Collecting markdown-it-py>=2.2.0 (from rich->keras>=3.2.0->tensorflow-intel==2.17.0->tensorflow)\n",
      "  Downloading markdown_it_py-3.0.0-py3-none-any.whl.metadata (6.9 kB)\n",
      "Requirement already satisfied: pygments<3.0.0,>=2.13.0 in c:\\users\\dell\\appdata\\roaming\\python\\python312\\site-packages (from rich->keras>=3.2.0->tensorflow-intel==2.17.0->tensorflow) (2.18.0)\n",
      "Collecting mdurl~=0.1 (from markdown-it-py>=2.2.0->rich->keras>=3.2.0->tensorflow-intel==2.17.0->tensorflow)\n",
      "  Downloading mdurl-0.1.2-py3-none-any.whl.metadata (1.6 kB)\n",
      "Downloading tensorflow-2.17.0-cp312-cp312-win_amd64.whl (2.0 kB)\n",
      "Downloading tensorflow_intel-2.17.0-cp312-cp312-win_amd64.whl (385.2 MB)\n",
      "   ---------------------------------------- 0.0/385.2 MB ? eta -:--:--\n",
      "   ---------------------------------------- 0.0/385.2 MB ? eta -:--:--\n",
      "   ---------------------------------------- 0.8/385.2 MB 3.7 MB/s eta 0:01:44\n",
      "   ---------------------------------------- 2.6/385.2 MB 6.0 MB/s eta 0:01:04\n",
      "    --------------------------------------- 7.3/385.2 MB 12.2 MB/s eta 0:00:31\n",
      "   - -------------------------------------- 14.2/385.2 MB 18.1 MB/s eta 0:00:21\n",
      "   - -------------------------------------- 16.3/385.2 MB 16.0 MB/s eta 0:00:24\n",
      "   -- ------------------------------------- 22.0/385.2 MB 17.8 MB/s eta 0:00:21\n",
      "   -- ------------------------------------- 25.4/385.2 MB 17.9 MB/s eta 0:00:21\n",
      "   --- ------------------------------------ 29.1/385.2 MB 18.1 MB/s eta 0:00:20\n",
      "   --- ------------------------------------ 33.0/385.2 MB 17.9 MB/s eta 0:00:20\n",
      "   --- ------------------------------------ 37.0/385.2 MB 18.1 MB/s eta 0:00:20\n",
      "   ---- ----------------------------------- 41.7/385.2 MB 18.4 MB/s eta 0:00:19\n",
      "   ---- ----------------------------------- 44.0/385.2 MB 17.7 MB/s eta 0:00:20\n",
      "   ---- ----------------------------------- 46.1/385.2 MB 17.2 MB/s eta 0:00:20\n",
      "   ---- ----------------------------------- 47.7/385.2 MB 16.4 MB/s eta 0:00:21\n",
      "   ----- ---------------------------------- 49.3/385.2 MB 15.8 MB/s eta 0:00:22\n",
      "   ----- ---------------------------------- 50.6/385.2 MB 15.4 MB/s eta 0:00:22\n",
      "   ----- ---------------------------------- 52.2/385.2 MB 14.8 MB/s eta 0:00:23\n",
      "   ----- ---------------------------------- 53.7/385.2 MB 14.4 MB/s eta 0:00:23\n",
      "   ----- ---------------------------------- 55.3/385.2 MB 14.1 MB/s eta 0:00:24\n",
      "   ----- ---------------------------------- 56.9/385.2 MB 13.8 MB/s eta 0:00:24\n",
      "   ------ --------------------------------- 58.5/385.2 MB 13.5 MB/s eta 0:00:25\n",
      "   ------ --------------------------------- 60.3/385.2 MB 13.2 MB/s eta 0:00:25\n",
      "   ------ --------------------------------- 61.9/385.2 MB 13.0 MB/s eta 0:00:25\n",
      "   ------ --------------------------------- 63.7/385.2 MB 12.8 MB/s eta 0:00:26\n",
      "   ------ --------------------------------- 65.3/385.2 MB 12.6 MB/s eta 0:00:26\n",
      "   ------ --------------------------------- 66.6/385.2 MB 12.5 MB/s eta 0:00:26\n",
      "   ------- -------------------------------- 67.9/385.2 MB 12.2 MB/s eta 0:00:27\n",
      "   ------- -------------------------------- 69.7/385.2 MB 12.0 MB/s eta 0:00:27\n",
      "   ------- -------------------------------- 71.3/385.2 MB 11.9 MB/s eta 0:00:27\n",
      "   ------- -------------------------------- 73.1/385.2 MB 11.8 MB/s eta 0:00:27\n",
      "   ------- -------------------------------- 75.0/385.2 MB 11.7 MB/s eta 0:00:27\n",
      "   ------- -------------------------------- 76.8/385.2 MB 11.6 MB/s eta 0:00:27\n",
      "   -------- ------------------------------- 78.4/385.2 MB 11.4 MB/s eta 0:00:27\n",
      "   -------- ------------------------------- 80.2/385.2 MB 11.4 MB/s eta 0:00:27\n",
      "   -------- ------------------------------- 82.3/385.2 MB 11.3 MB/s eta 0:00:27\n",
      "   -------- ------------------------------- 84.1/385.2 MB 11.2 MB/s eta 0:00:27\n",
      "   -------- ------------------------------- 85.7/385.2 MB 11.1 MB/s eta 0:00:27\n",
      "   --------- ------------------------------ 87.6/385.2 MB 11.1 MB/s eta 0:00:27\n",
      "   --------- ------------------------------ 89.1/385.2 MB 11.0 MB/s eta 0:00:27\n",
      "   --------- ------------------------------ 91.0/385.2 MB 11.0 MB/s eta 0:00:27\n",
      "   --------- ------------------------------ 92.8/385.2 MB 10.9 MB/s eta 0:00:27\n",
      "   --------- ------------------------------ 94.6/385.2 MB 10.8 MB/s eta 0:00:27\n",
      "   --------- ------------------------------ 96.2/385.2 MB 10.8 MB/s eta 0:00:27\n",
      "   ---------- ----------------------------- 98.0/385.2 MB 10.7 MB/s eta 0:00:27\n",
      "   ---------- ---------------------------- 100.1/385.2 MB 10.7 MB/s eta 0:00:27\n",
      "   ---------- ---------------------------- 101.7/385.2 MB 10.6 MB/s eta 0:00:27\n",
      "   ---------- ---------------------------- 103.3/385.2 MB 10.6 MB/s eta 0:00:27\n",
      "   ---------- ---------------------------- 104.3/385.2 MB 10.5 MB/s eta 0:00:27\n",
      "   ---------- ---------------------------- 105.4/385.2 MB 10.3 MB/s eta 0:00:28\n",
      "   ---------- ---------------------------- 105.9/385.2 MB 10.2 MB/s eta 0:00:28\n",
      "   ---------- ---------------------------- 106.4/385.2 MB 10.1 MB/s eta 0:00:28\n",
      "   ----------- ---------------------------- 106.7/385.2 MB 9.9 MB/s eta 0:00:29\n",
      "   ----------- ---------------------------- 107.2/385.2 MB 9.8 MB/s eta 0:00:29\n",
      "   ----------- ---------------------------- 107.5/385.2 MB 9.7 MB/s eta 0:00:29\n",
      "   ----------- ---------------------------- 107.7/385.2 MB 9.5 MB/s eta 0:00:30\n",
      "   ----------- ---------------------------- 108.0/385.2 MB 9.4 MB/s eta 0:00:30\n",
      "   ----------- ---------------------------- 108.3/385.2 MB 9.2 MB/s eta 0:00:31\n",
      "   ----------- ---------------------------- 108.5/385.2 MB 9.0 MB/s eta 0:00:31\n",
      "   ----------- ---------------------------- 108.8/385.2 MB 8.9 MB/s eta 0:00:31\n",
      "   ----------- ---------------------------- 109.1/385.2 MB 8.8 MB/s eta 0:00:32\n",
      "   ----------- ---------------------------- 109.3/385.2 MB 8.7 MB/s eta 0:00:32\n",
      "   ----------- ---------------------------- 109.6/385.2 MB 8.5 MB/s eta 0:00:33\n",
      "   ----------- ---------------------------- 109.8/385.2 MB 8.4 MB/s eta 0:00:33\n",
      "   ----------- ---------------------------- 110.1/385.2 MB 8.3 MB/s eta 0:00:34\n",
      "   ----------- ---------------------------- 110.4/385.2 MB 8.2 MB/s eta 0:00:34\n",
      "   ----------- ---------------------------- 110.6/385.2 MB 8.1 MB/s eta 0:00:34\n",
      "   ----------- ---------------------------- 110.9/385.2 MB 8.0 MB/s eta 0:00:35\n",
      "   ----------- ---------------------------- 111.1/385.2 MB 7.9 MB/s eta 0:00:35\n",
      "   ----------- ---------------------------- 111.4/385.2 MB 7.8 MB/s eta 0:00:36\n",
      "   ----------- ---------------------------- 111.7/385.2 MB 7.7 MB/s eta 0:00:36\n",
      "   ----------- ---------------------------- 111.9/385.2 MB 7.6 MB/s eta 0:00:36\n",
      "   ----------- ---------------------------- 112.2/385.2 MB 7.5 MB/s eta 0:00:37\n",
      "   ----------- ---------------------------- 112.5/385.2 MB 7.4 MB/s eta 0:00:37\n",
      "   ----------- ---------------------------- 112.7/385.2 MB 7.4 MB/s eta 0:00:38\n",
      "   ----------- ---------------------------- 113.0/385.2 MB 7.3 MB/s eta 0:00:38\n",
      "   ----------- ---------------------------- 113.2/385.2 MB 7.2 MB/s eta 0:00:38\n",
      "   ----------- ---------------------------- 113.5/385.2 MB 7.1 MB/s eta 0:00:39\n",
      "   ----------- ---------------------------- 114.0/385.2 MB 7.0 MB/s eta 0:00:39\n",
      "   ----------- ---------------------------- 114.3/385.2 MB 6.9 MB/s eta 0:00:40\n",
      "   ----------- ---------------------------- 114.6/385.2 MB 6.9 MB/s eta 0:00:40\n",
      "   ----------- ---------------------------- 114.8/385.2 MB 6.8 MB/s eta 0:00:40\n",
      "   ----------- ---------------------------- 115.1/385.2 MB 6.7 MB/s eta 0:00:41\n",
      "   ----------- ---------------------------- 115.3/385.2 MB 6.7 MB/s eta 0:00:41\n",
      "   ------------ --------------------------- 115.6/385.2 MB 6.6 MB/s eta 0:00:41\n",
      "   ------------ --------------------------- 116.1/385.2 MB 6.5 MB/s eta 0:00:42\n",
      "   ------------ --------------------------- 116.4/385.2 MB 6.5 MB/s eta 0:00:42\n",
      "   ------------ --------------------------- 116.7/385.2 MB 6.4 MB/s eta 0:00:42\n",
      "   ------------ --------------------------- 116.9/385.2 MB 6.4 MB/s eta 0:00:43\n",
      "   ------------ --------------------------- 117.4/385.2 MB 6.3 MB/s eta 0:00:43\n",
      "   ------------ --------------------------- 117.7/385.2 MB 6.3 MB/s eta 0:00:43\n",
      "   ------------ --------------------------- 118.0/385.2 MB 6.2 MB/s eta 0:00:43\n",
      "   ------------ --------------------------- 118.5/385.2 MB 6.1 MB/s eta 0:00:44\n",
      "   ------------ --------------------------- 118.8/385.2 MB 6.1 MB/s eta 0:00:44\n",
      "   ------------ --------------------------- 119.3/385.2 MB 6.0 MB/s eta 0:00:44\n",
      "   ------------ --------------------------- 119.5/385.2 MB 6.0 MB/s eta 0:00:45\n",
      "   ------------ --------------------------- 120.1/385.2 MB 6.0 MB/s eta 0:00:45\n",
      "   ------------ --------------------------- 120.6/385.2 MB 5.9 MB/s eta 0:00:45\n",
      "   ------------ --------------------------- 120.8/385.2 MB 5.9 MB/s eta 0:00:45\n",
      "   ------------ --------------------------- 121.4/385.2 MB 5.9 MB/s eta 0:00:45\n",
      "   ------------ --------------------------- 121.9/385.2 MB 5.8 MB/s eta 0:00:46\n",
      "   ------------ --------------------------- 122.4/385.2 MB 5.8 MB/s eta 0:00:46\n",
      "   ------------ --------------------------- 122.9/385.2 MB 5.8 MB/s eta 0:00:46\n",
      "   ------------ --------------------------- 123.5/385.2 MB 5.7 MB/s eta 0:00:46\n",
      "   ------------ --------------------------- 124.3/385.2 MB 5.7 MB/s eta 0:00:46\n",
      "   ------------ --------------------------- 124.8/385.2 MB 5.7 MB/s eta 0:00:46\n",
      "   ------------- -------------------------- 125.3/385.2 MB 5.7 MB/s eta 0:00:46\n",
      "   ------------- -------------------------- 126.1/385.2 MB 5.6 MB/s eta 0:00:46\n",
      "   ------------- -------------------------- 126.9/385.2 MB 5.6 MB/s eta 0:00:46\n",
      "   ------------- -------------------------- 127.7/385.2 MB 5.6 MB/s eta 0:00:46\n",
      "   ------------- -------------------------- 128.5/385.2 MB 5.6 MB/s eta 0:00:46\n",
      "   ------------- -------------------------- 129.2/385.2 MB 5.6 MB/s eta 0:00:46\n",
      "   ------------- -------------------------- 130.3/385.2 MB 5.6 MB/s eta 0:00:46\n",
      "   ------------- -------------------------- 131.3/385.2 MB 5.6 MB/s eta 0:00:46\n",
      "   ------------- -------------------------- 132.4/385.2 MB 5.6 MB/s eta 0:00:46\n",
      "   ------------- -------------------------- 133.4/385.2 MB 5.5 MB/s eta 0:00:46\n",
      "   ------------- -------------------------- 134.5/385.2 MB 5.5 MB/s eta 0:00:46\n",
      "   -------------- ------------------------- 135.8/385.2 MB 5.6 MB/s eta 0:00:45\n",
      "   -------------- ------------------------- 137.1/385.2 MB 5.6 MB/s eta 0:00:45\n",
      "   -------------- ------------------------- 138.4/385.2 MB 5.6 MB/s eta 0:00:45\n",
      "   -------------- ------------------------- 139.7/385.2 MB 5.6 MB/s eta 0:00:45\n",
      "   -------------- ------------------------- 141.3/385.2 MB 5.6 MB/s eta 0:00:44\n",
      "   -------------- ------------------------- 142.6/385.2 MB 5.6 MB/s eta 0:00:44\n",
      "   -------------- ------------------------- 144.2/385.2 MB 5.6 MB/s eta 0:00:43\n",
      "   --------------- ------------------------ 145.8/385.2 MB 5.6 MB/s eta 0:00:43\n",
      "   --------------- ------------------------ 147.6/385.2 MB 5.7 MB/s eta 0:00:43\n",
      "   --------------- ------------------------ 149.2/385.2 MB 5.7 MB/s eta 0:00:42\n",
      "   --------------- ------------------------ 151.3/385.2 MB 5.7 MB/s eta 0:00:42\n",
      "   --------------- ------------------------ 153.1/385.2 MB 5.7 MB/s eta 0:00:41\n",
      "   ---------------- ----------------------- 155.2/385.2 MB 5.8 MB/s eta 0:00:40\n",
      "   ---------------- ----------------------- 157.3/385.2 MB 5.8 MB/s eta 0:00:40\n",
      "   ---------------- ----------------------- 159.4/385.2 MB 5.8 MB/s eta 0:00:39\n",
      "   ---------------- ----------------------- 161.7/385.2 MB 5.9 MB/s eta 0:00:39\n",
      "   ----------------- ---------------------- 164.1/385.2 MB 5.9 MB/s eta 0:00:38\n",
      "   ----------------- ---------------------- 166.7/385.2 MB 6.0 MB/s eta 0:00:37\n",
      "   ----------------- ---------------------- 169.3/385.2 MB 6.0 MB/s eta 0:00:36\n",
      "   ----------------- ---------------------- 172.5/385.2 MB 6.1 MB/s eta 0:00:36\n",
      "   ------------------ --------------------- 175.1/385.2 MB 6.1 MB/s eta 0:00:35\n",
      "   ------------------ --------------------- 178.5/385.2 MB 6.2 MB/s eta 0:00:34\n",
      "   ------------------ --------------------- 181.7/385.2 MB 6.3 MB/s eta 0:00:33\n",
      "   ------------------- -------------------- 184.5/385.2 MB 6.3 MB/s eta 0:00:32\n",
      "   ------------------- -------------------- 188.0/385.2 MB 6.4 MB/s eta 0:00:31\n",
      "   ------------------- -------------------- 190.1/385.2 MB 6.4 MB/s eta 0:00:31\n",
      "   -------------------- ------------------- 193.5/385.2 MB 6.5 MB/s eta 0:00:30\n",
      "   -------------------- ------------------- 195.3/385.2 MB 6.5 MB/s eta 0:00:30\n",
      "   -------------------- ------------------- 197.1/385.2 MB 6.5 MB/s eta 0:00:29\n",
      "   -------------------- ------------------- 199.0/385.2 MB 6.5 MB/s eta 0:00:29\n",
      "   -------------------- ------------------- 200.8/385.2 MB 6.4 MB/s eta 0:00:29\n",
      "   --------------------- ------------------ 202.6/385.2 MB 6.3 MB/s eta 0:00:29\n",
      "   --------------------- ------------------ 204.7/385.2 MB 6.3 MB/s eta 0:00:29\n",
      "   --------------------- ------------------ 206.8/385.2 MB 6.1 MB/s eta 0:00:30\n",
      "   --------------------- ------------------ 208.1/385.2 MB 6.0 MB/s eta 0:00:30\n",
      "   --------------------- ------------------ 210.2/385.2 MB 6.0 MB/s eta 0:00:30\n",
      "   ---------------------- ----------------- 212.1/385.2 MB 5.9 MB/s eta 0:00:30\n",
      "   ---------------------- ----------------- 214.4/385.2 MB 5.9 MB/s eta 0:00:30\n",
      "   ---------------------- ----------------- 216.5/385.2 MB 5.8 MB/s eta 0:00:29\n",
      "   ---------------------- ----------------- 218.6/385.2 MB 5.8 MB/s eta 0:00:29\n",
      "   ---------------------- ----------------- 220.7/385.2 MB 5.8 MB/s eta 0:00:29\n",
      "   ----------------------- ---------------- 222.8/385.2 MB 5.8 MB/s eta 0:00:28\n",
      "   ----------------------- ---------------- 224.9/385.2 MB 5.8 MB/s eta 0:00:28\n",
      "   ----------------------- ---------------- 227.0/385.2 MB 5.9 MB/s eta 0:00:27\n",
      "   ----------------------- ---------------- 229.1/385.2 MB 5.9 MB/s eta 0:00:27\n",
      "   ------------------------ --------------- 231.5/385.2 MB 5.9 MB/s eta 0:00:27\n",
      "   ------------------------ --------------- 233.6/385.2 MB 5.9 MB/s eta 0:00:26\n",
      "   ------------------------ --------------- 235.7/385.2 MB 5.9 MB/s eta 0:00:26\n",
      "   ------------------------ --------------- 237.8/385.2 MB 5.9 MB/s eta 0:00:25\n",
      "   ------------------------ --------------- 240.1/385.2 MB 6.0 MB/s eta 0:00:25\n",
      "   ------------------------- -------------- 242.2/385.2 MB 6.0 MB/s eta 0:00:24\n",
      "   ------------------------- -------------- 244.3/385.2 MB 6.0 MB/s eta 0:00:24\n",
      "   ------------------------- -------------- 245.9/385.2 MB 6.0 MB/s eta 0:00:24\n",
      "   ------------------------- -------------- 248.0/385.2 MB 6.0 MB/s eta 0:00:23\n",
      "   ------------------------- -------------- 250.1/385.2 MB 6.0 MB/s eta 0:00:23\n",
      "   -------------------------- ------------- 252.4/385.2 MB 6.1 MB/s eta 0:00:22\n",
      "   -------------------------- ------------- 254.8/385.2 MB 6.1 MB/s eta 0:00:22\n",
      "   -------------------------- ------------- 256.9/385.2 MB 6.1 MB/s eta 0:00:22\n",
      "   -------------------------- ------------- 259.3/385.2 MB 6.1 MB/s eta 0:00:21\n",
      "   --------------------------- ------------ 261.4/385.2 MB 6.1 MB/s eta 0:00:21\n",
      "   --------------------------- ------------ 263.2/385.2 MB 6.1 MB/s eta 0:00:20\n",
      "   --------------------------- ------------ 265.0/385.2 MB 6.1 MB/s eta 0:00:20\n",
      "   --------------------------- ------------ 267.1/385.2 MB 6.1 MB/s eta 0:00:20\n",
      "   --------------------------- ------------ 269.5/385.2 MB 6.2 MB/s eta 0:00:19\n",
      "   ---------------------------- ----------- 271.6/385.2 MB 6.2 MB/s eta 0:00:19\n",
      "   ---------------------------- ----------- 273.7/385.2 MB 6.2 MB/s eta 0:00:19\n",
      "   ---------------------------- ----------- 275.8/385.2 MB 6.2 MB/s eta 0:00:18\n",
      "   ---------------------------- ----------- 277.6/385.2 MB 6.2 MB/s eta 0:00:18\n",
      "   ----------------------------- ---------- 280.0/385.2 MB 6.2 MB/s eta 0:00:17\n",
      "   ----------------------------- ---------- 282.3/385.2 MB 6.2 MB/s eta 0:00:17\n",
      "   ----------------------------- ---------- 284.2/385.2 MB 6.2 MB/s eta 0:00:17\n",
      "   ----------------------------- ---------- 286.3/385.2 MB 6.2 MB/s eta 0:00:16\n",
      "   ----------------------------- ---------- 288.4/385.2 MB 6.3 MB/s eta 0:00:16\n",
      "   ------------------------------ --------- 290.2/385.2 MB 6.3 MB/s eta 0:00:16\n",
      "   ------------------------------ --------- 292.6/385.2 MB 6.3 MB/s eta 0:00:15\n",
      "   ------------------------------ --------- 294.9/385.2 MB 6.3 MB/s eta 0:00:15\n",
      "   ------------------------------ --------- 297.0/385.2 MB 6.4 MB/s eta 0:00:14\n",
      "   ------------------------------- -------- 299.4/385.2 MB 6.4 MB/s eta 0:00:14\n",
      "   ------------------------------- -------- 301.2/385.2 MB 6.5 MB/s eta 0:00:13\n",
      "   ------------------------------- -------- 303.6/385.2 MB 6.6 MB/s eta 0:00:13\n",
      "   ------------------------------- -------- 305.7/385.2 MB 6.6 MB/s eta 0:00:12\n",
      "   ------------------------------- -------- 307.8/385.2 MB 6.7 MB/s eta 0:00:12\n",
      "   -------------------------------- ------- 310.1/385.2 MB 6.8 MB/s eta 0:00:12\n",
      "   -------------------------------- ------- 312.2/385.2 MB 6.8 MB/s eta 0:00:11\n",
      "   -------------------------------- ------- 314.6/385.2 MB 6.9 MB/s eta 0:00:11\n",
      "   -------------------------------- ------- 316.9/385.2 MB 7.0 MB/s eta 0:00:10\n",
      "   --------------------------------- ------ 319.0/385.2 MB 7.0 MB/s eta 0:00:10\n",
      "   --------------------------------- ------ 321.4/385.2 MB 7.1 MB/s eta 0:00:10\n",
      "   --------------------------------- ------ 323.5/385.2 MB 7.1 MB/s eta 0:00:09\n",
      "   --------------------------------- ------ 325.8/385.2 MB 7.2 MB/s eta 0:00:09\n",
      "   ---------------------------------- ----- 328.2/385.2 MB 7.3 MB/s eta 0:00:08\n",
      "   ---------------------------------- ----- 330.6/385.2 MB 7.3 MB/s eta 0:00:08\n",
      "   ---------------------------------- ----- 332.9/385.2 MB 7.4 MB/s eta 0:00:08\n",
      "   ---------------------------------- ----- 335.3/385.2 MB 7.5 MB/s eta 0:00:07\n",
      "   ----------------------------------- ---- 337.9/385.2 MB 7.6 MB/s eta 0:00:07\n",
      "   ----------------------------------- ---- 340.5/385.2 MB 7.6 MB/s eta 0:00:06\n",
      "   ----------------------------------- ---- 343.1/385.2 MB 7.8 MB/s eta 0:00:06\n",
      "   ----------------------------------- ---- 345.5/385.2 MB 7.8 MB/s eta 0:00:06\n",
      "   ------------------------------------ --- 348.1/385.2 MB 7.9 MB/s eta 0:00:05\n",
      "   ------------------------------------ --- 351.0/385.2 MB 8.0 MB/s eta 0:00:05\n",
      "   ------------------------------------ --- 353.6/385.2 MB 8.1 MB/s eta 0:00:04\n",
      "   ------------------------------------- -- 356.5/385.2 MB 8.2 MB/s eta 0:00:04\n",
      "   ------------------------------------- -- 359.7/385.2 MB 8.2 MB/s eta 0:00:04\n",
      "   ------------------------------------- -- 362.3/385.2 MB 8.3 MB/s eta 0:00:03\n",
      "   ------------------------------------- -- 365.2/385.2 MB 8.4 MB/s eta 0:00:03\n",
      "   -------------------------------------- - 367.8/385.2 MB 8.5 MB/s eta 0:00:03\n",
      "   -------------------------------------- - 370.7/385.2 MB 8.6 MB/s eta 0:00:02\n",
      "   -------------------------------------- - 373.8/385.2 MB 8.7 MB/s eta 0:00:02\n",
      "   ---------------------------------------  377.2/385.2 MB 8.8 MB/s eta 0:00:01\n",
      "   ---------------------------------------  380.4/385.2 MB 9.4 MB/s eta 0:00:01\n",
      "   ---------------------------------------  383.8/385.2 MB 9.9 MB/s eta 0:00:01\n",
      "   --------------------------------------  385.1/385.2 MB 10.0 MB/s eta 0:00:01\n",
      "   --------------------------------------  385.1/385.2 MB 10.0 MB/s eta 0:00:01\n",
      "   --------------------------------------  385.1/385.2 MB 10.0 MB/s eta 0:00:01\n",
      "   ---------------------------------------- 385.2/385.2 MB 9.8 MB/s eta 0:00:00\n",
      "Downloading absl_py-2.1.0-py3-none-any.whl (133 kB)\n",
      "Downloading astunparse-1.6.3-py2.py3-none-any.whl (12 kB)\n",
      "Downloading flatbuffers-24.3.25-py2.py3-none-any.whl (26 kB)\n",
      "Downloading gast-0.6.0-py3-none-any.whl (21 kB)\n",
      "Downloading google_pasta-0.2.0-py3-none-any.whl (57 kB)\n",
      "Downloading grpcio-1.66.1-cp312-cp312-win_amd64.whl (4.3 MB)\n",
      "   ---------------------------------------- 0.0/4.3 MB ? eta -:--:--\n",
      "   ------------------------------- -------- 3.4/4.3 MB 16.8 MB/s eta 0:00:01\n",
      "   ---------------------------------------- 4.3/4.3 MB 15.1 MB/s eta 0:00:00\n",
      "Downloading h5py-3.11.0-cp312-cp312-win_amd64.whl (3.0 MB)\n",
      "   ---------------------------------------- 0.0/3.0 MB ? eta -:--:--\n",
      "   ---------------------------------------- 3.0/3.0 MB 15.7 MB/s eta 0:00:00\n",
      "Downloading keras-3.5.0-py3-none-any.whl (1.1 MB)\n",
      "   ---------------------------------------- 0.0/1.1 MB ? eta -:--:--\n",
      "   ---------------------------------------- 1.1/1.1 MB 18.8 MB/s eta 0:00:00\n",
      "Downloading libclang-18.1.1-py2.py3-none-win_amd64.whl (26.4 MB)\n",
      "   ---------------------------------------- 0.0/26.4 MB ? eta -:--:--\n",
      "   ----- ---------------------------------- 3.7/26.4 MB 19.8 MB/s eta 0:00:02\n",
      "   ---------- ----------------------------- 7.1/26.4 MB 17.4 MB/s eta 0:00:02\n",
      "   ---------------- ----------------------- 10.7/26.4 MB 17.7 MB/s eta 0:00:01\n",
      "   --------------------- ------------------ 14.4/26.4 MB 17.8 MB/s eta 0:00:01\n",
      "   --------------------------- ------------ 18.1/26.4 MB 17.8 MB/s eta 0:00:01\n",
      "   --------------------------------- ------ 22.3/26.4 MB 18.1 MB/s eta 0:00:01\n",
      "   ---------------------------------------  26.2/26.4 MB 18.0 MB/s eta 0:00:01\n",
      "   ---------------------------------------- 26.4/26.4 MB 17.6 MB/s eta 0:00:00\n",
      "Downloading ml_dtypes-0.4.1-cp312-cp312-win_amd64.whl (127 kB)\n",
      "Downloading numpy-1.26.4-cp312-cp312-win_amd64.whl (15.5 MB)\n",
      "   ---------------------------------------- 0.0/15.5 MB ? eta -:--:--\n",
      "   ---------- ----------------------------- 4.2/15.5 MB 21.0 MB/s eta 0:00:01\n",
      "   --------------------- ------------------ 8.4/15.5 MB 20.0 MB/s eta 0:00:01\n",
      "   --------------------------------- ------ 12.8/15.5 MB 20.7 MB/s eta 0:00:01\n",
      "   ---------------------------------------- 15.5/15.5 MB 19.9 MB/s eta 0:00:00\n",
      "Downloading opt_einsum-3.3.0-py3-none-any.whl (65 kB)\n",
      "Downloading protobuf-4.25.4-cp310-abi3-win_amd64.whl (413 kB)\n",
      "Downloading requests-2.32.3-py3-none-any.whl (64 kB)\n",
      "Downloading tensorboard-2.17.1-py3-none-any.whl (5.5 MB)\n",
      "   ---------------------------------------- 0.0/5.5 MB ? eta -:--:--\n",
      "   ------------------------------------ --- 5.0/5.5 MB 23.2 MB/s eta 0:00:01\n",
      "   ---------------------------------------- 5.5/5.5 MB 19.7 MB/s eta 0:00:00\n",
      "Downloading setuptools-75.1.0-py3-none-any.whl (1.2 MB)\n",
      "   ---------------------------------------- 0.0/1.2 MB ? eta -:--:--\n",
      "   ---------------------------------------- 1.2/1.2 MB 31.8 MB/s eta 0:00:00\n",
      "Downloading termcolor-2.4.0-py3-none-any.whl (7.7 kB)\n",
      "Downloading typing_extensions-4.12.2-py3-none-any.whl (37 kB)\n",
      "Downloading wrapt-1.16.0-cp312-cp312-win_amd64.whl (37 kB)\n",
      "Downloading certifi-2024.8.30-py3-none-any.whl (167 kB)\n",
      "Downloading charset_normalizer-3.3.2-cp312-cp312-win_amd64.whl (100 kB)\n",
      "Downloading idna-3.10-py3-none-any.whl (70 kB)\n",
      "Downloading Markdown-3.7-py3-none-any.whl (106 kB)\n",
      "Downloading tensorboard_data_server-0.7.2-py3-none-any.whl (2.4 kB)\n",
      "Downloading urllib3-2.2.3-py3-none-any.whl (126 kB)\n",
      "Downloading werkzeug-3.0.4-py3-none-any.whl (227 kB)\n",
      "Downloading wheel-0.44.0-py3-none-any.whl (67 kB)\n",
      "Downloading namex-0.0.8-py3-none-any.whl (5.8 kB)\n",
      "Downloading optree-0.12.1-cp312-cp312-win_amd64.whl (267 kB)\n",
      "Downloading rich-13.8.1-py3-none-any.whl (241 kB)\n",
      "Downloading markdown_it_py-3.0.0-py3-none-any.whl (87 kB)\n",
      "Downloading MarkupSafe-2.1.5-cp312-cp312-win_amd64.whl (17 kB)\n",
      "Downloading mdurl-0.1.2-py3-none-any.whl (10.0 kB)\n",
      "Installing collected packages: namex, libclang, flatbuffers, wrapt, wheel, urllib3, typing-extensions, termcolor, tensorboard-data-server, setuptools, protobuf, numpy, mdurl, MarkupSafe, markdown, idna, grpcio, google-pasta, gast, charset-normalizer, certifi, absl-py, werkzeug, requests, optree, opt-einsum, ml-dtypes, markdown-it-py, h5py, astunparse, tensorboard, rich, keras, tensorflow-intel, tensorflow\n",
      "  Attempting uninstall: numpy\n",
      "    Found existing installation: numpy 2.1.1\n",
      "    Uninstalling numpy-2.1.1:\n",
      "      Successfully uninstalled numpy-2.1.1\n",
      "Successfully installed MarkupSafe-2.1.5 absl-py-2.1.0 astunparse-1.6.3 certifi-2024.8.30 charset-normalizer-3.3.2 flatbuffers-24.3.25 gast-0.6.0 google-pasta-0.2.0 grpcio-1.66.1 h5py-3.11.0 idna-3.10 keras-3.5.0 libclang-18.1.1 markdown-3.7 markdown-it-py-3.0.0 mdurl-0.1.2 ml-dtypes-0.4.1 namex-0.0.8 numpy-1.26.4 opt-einsum-3.3.0 optree-0.12.1 protobuf-4.25.4 requests-2.32.3 rich-13.8.1 setuptools-75.1.0 tensorboard-2.17.1 tensorboard-data-server-0.7.2 tensorflow-2.17.0 tensorflow-intel-2.17.0 termcolor-2.4.0 typing-extensions-4.12.2 urllib3-2.2.3 werkzeug-3.0.4 wheel-0.44.0 wrapt-1.16.0\n",
      "Note: you may need to restart the kernel to use updated packages.\n"
     ]
    },
    {
     "name": "stderr",
     "output_type": "stream",
     "text": [
      "  WARNING: The script wheel.exe is installed in 'c:\\Users\\DELL\\AppData\\Local\\Programs\\Python\\Python312\\Scripts' which is not on PATH.\n",
      "  Consider adding this directory to PATH or, if you prefer to suppress this warning, use --no-warn-script-location.\n",
      "  WARNING: The script f2py.exe is installed in 'c:\\Users\\DELL\\AppData\\Local\\Programs\\Python\\Python312\\Scripts' which is not on PATH.\n",
      "  Consider adding this directory to PATH or, if you prefer to suppress this warning, use --no-warn-script-location.\n",
      "  WARNING: The script markdown_py.exe is installed in 'c:\\Users\\DELL\\AppData\\Local\\Programs\\Python\\Python312\\Scripts' which is not on PATH.\n",
      "  Consider adding this directory to PATH or, if you prefer to suppress this warning, use --no-warn-script-location.\n",
      "  WARNING: The script normalizer.exe is installed in 'c:\\Users\\DELL\\AppData\\Local\\Programs\\Python\\Python312\\Scripts' which is not on PATH.\n",
      "  Consider adding this directory to PATH or, if you prefer to suppress this warning, use --no-warn-script-location.\n",
      "  WARNING: The script markdown-it.exe is installed in 'c:\\Users\\DELL\\AppData\\Local\\Programs\\Python\\Python312\\Scripts' which is not on PATH.\n",
      "  Consider adding this directory to PATH or, if you prefer to suppress this warning, use --no-warn-script-location.\n",
      "  WARNING: The script tensorboard.exe is installed in 'c:\\Users\\DELL\\AppData\\Local\\Programs\\Python\\Python312\\Scripts' which is not on PATH.\n",
      "  Consider adding this directory to PATH or, if you prefer to suppress this warning, use --no-warn-script-location.\n",
      "  WARNING: The scripts import_pb_to_tensorboard.exe, saved_model_cli.exe, tensorboard.exe, tf_upgrade_v2.exe, tflite_convert.exe, toco.exe and toco_from_protos.exe are installed in 'c:\\Users\\DELL\\AppData\\Local\\Programs\\Python\\Python312\\Scripts' which is not on PATH.\n",
      "  Consider adding this directory to PATH or, if you prefer to suppress this warning, use --no-warn-script-location.\n"
     ]
    }
   ],
   "source": [
    "pip install tensorflow\n"
   ]
  },
  {
   "cell_type": "code",
   "execution_count": 5,
   "metadata": {},
   "outputs": [
    {
     "name": "stdout",
     "output_type": "stream",
     "text": [
      "Collecting tensorflow-gpuNote: you may need to restart the kernel to use updated packages.\n",
      "\n",
      "  Downloading tensorflow-gpu-2.12.0.tar.gz (2.6 kB)\n",
      "  Preparing metadata (setup.py): started\n",
      "  Preparing metadata (setup.py): finished with status 'error'\n"
     ]
    },
    {
     "name": "stderr",
     "output_type": "stream",
     "text": [
      "  error: subprocess-exited-with-error\n",
      "  \n",
      "  × python setup.py egg_info did not run successfully.\n",
      "  │ exit code: 1\n",
      "  ╰─> [44 lines of output]\n",
      "      Traceback (most recent call last):\n",
      "        File \"C:\\Users\\DELL\\AppData\\Roaming\\Python\\Python312\\site-packages\\packaging\\requirements.py\", line 36, in __init__\n",
      "          parsed = _parse_requirement(requirement_string)\n",
      "                   ^^^^^^^^^^^^^^^^^^^^^^^^^^^^^^^^^^^^^^\n",
      "        File \"C:\\Users\\DELL\\AppData\\Roaming\\Python\\Python312\\site-packages\\packaging\\_parser.py\", line 62, in parse_requirement\n",
      "          return _parse_requirement(Tokenizer(source, rules=DEFAULT_RULES))\n",
      "                 ^^^^^^^^^^^^^^^^^^^^^^^^^^^^^^^^^^^^^^^^^^^^^^^^^^^^^^^^^^\n",
      "        File \"C:\\Users\\DELL\\AppData\\Roaming\\Python\\Python312\\site-packages\\packaging\\_parser.py\", line 80, in _parse_requirement\n",
      "          url, specifier, marker = _parse_requirement_details(tokenizer)\n",
      "                                   ^^^^^^^^^^^^^^^^^^^^^^^^^^^^^^^^^^^^^\n",
      "        File \"C:\\Users\\DELL\\AppData\\Roaming\\Python\\Python312\\site-packages\\packaging\\_parser.py\", line 124, in _parse_requirement_details\n",
      "          marker = _parse_requirement_marker(\n",
      "                   ^^^^^^^^^^^^^^^^^^^^^^^^^^\n",
      "        File \"C:\\Users\\DELL\\AppData\\Roaming\\Python\\Python312\\site-packages\\packaging\\_parser.py\", line 145, in _parse_requirement_marker\n",
      "          tokenizer.raise_syntax_error(\n",
      "        File \"C:\\Users\\DELL\\AppData\\Roaming\\Python\\Python312\\site-packages\\packaging\\_tokenizer.py\", line 167, in raise_syntax_error\n",
      "          raise ParserSyntaxError(\n",
      "      packaging._tokenizer.ParserSyntaxError: Expected end or semicolon (after name and no valid version specifier)\n",
      "          python_version>\"3.7\"\n",
      "                        ^\n",
      "      \n",
      "      The above exception was the direct cause of the following exception:\n",
      "      \n",
      "      Traceback (most recent call last):\n",
      "        File \"<string>\", line 2, in <module>\n",
      "        File \"<pip-setuptools-caller>\", line 34, in <module>\n",
      "        File \"C:\\Users\\DELL\\AppData\\Local\\Temp\\pip-install-03gn24rp\\tensorflow-gpu_3efa8415da944ef0bc85c8c4f7f39854\\setup.py\", line 40, in <module>\n",
      "          setuptools.setup()\n",
      "        File \"c:\\Users\\DELL\\AppData\\Local\\Programs\\Python\\Python312\\Lib\\site-packages\\setuptools\\__init__.py\", line 116, in setup\n",
      "          _install_setup_requires(attrs)\n",
      "        File \"c:\\Users\\DELL\\AppData\\Local\\Programs\\Python\\Python312\\Lib\\site-packages\\setuptools\\__init__.py\", line 87, in _install_setup_requires\n",
      "          dist.parse_config_files(ignore_option_errors=True)\n",
      "        File \"c:\\Users\\DELL\\AppData\\Local\\Programs\\Python\\Python312\\Lib\\site-packages\\setuptools\\dist.py\", line 610, in parse_config_files\n",
      "          self._finalize_requires()\n",
      "        File \"c:\\Users\\DELL\\AppData\\Local\\Programs\\Python\\Python312\\Lib\\site-packages\\setuptools\\dist.py\", line 344, in _finalize_requires\n",
      "          self._normalize_requires()\n",
      "        File \"c:\\Users\\DELL\\AppData\\Local\\Programs\\Python\\Python312\\Lib\\site-packages\\setuptools\\dist.py\", line 359, in _normalize_requires\n",
      "          self.install_requires = list(map(str, _reqs.parse(install_requires)))\n",
      "                                  ^^^^^^^^^^^^^^^^^^^^^^^^^^^^^^^^^^^^^^^^^^^^^\n",
      "        File \"C:\\Users\\DELL\\AppData\\Roaming\\Python\\Python312\\site-packages\\packaging\\requirements.py\", line 38, in __init__\n",
      "          raise InvalidRequirement(str(e)) from e\n",
      "      packaging.requirements.InvalidRequirement: Expected end or semicolon (after name and no valid version specifier)\n",
      "          python_version>\"3.7\"\n",
      "                        ^\n",
      "      [end of output]\n",
      "  \n",
      "  note: This error originates from a subprocess, and is likely not a problem with pip.\n",
      "error: metadata-generation-failed\n",
      "\n",
      "× Encountered error while generating package metadata.\n",
      "╰─> See above for output.\n",
      "\n",
      "note: This is an issue with the package mentioned above, not pip.\n",
      "hint: See above for details.\n"
     ]
    }
   ],
   "source": [
    "pip install tensorflow-gpu\n"
   ]
  },
  {
   "cell_type": "code",
   "execution_count": 7,
   "metadata": {},
   "outputs": [
    {
     "name": "stdout",
     "output_type": "stream",
     "text": [
      "Collecting torch\n",
      "  Downloading torch-2.4.1-cp312-cp312-win_amd64.whl.metadata (27 kB)\n",
      "Collecting torchvision\n",
      "  Downloading torchvision-0.19.1-cp312-cp312-win_amd64.whl.metadata (6.1 kB)\n",
      "Collecting torchaudio\n",
      "  Downloading torchaudio-2.4.1-cp312-cp312-win_amd64.whl.metadata (6.5 kB)\n",
      "Collecting filelock (from torch)\n",
      "  Downloading filelock-3.16.1-py3-none-any.whl.metadata (2.9 kB)\n",
      "Requirement already satisfied: typing-extensions>=4.8.0 in c:\\users\\dell\\appdata\\local\\programs\\python\\python312\\lib\\site-packages (from torch) (4.12.2)\n",
      "Collecting sympy (from torch)\n",
      "  Downloading sympy-1.13.2-py3-none-any.whl.metadata (12 kB)\n",
      "Collecting networkx (from torch)\n",
      "  Downloading networkx-3.3-py3-none-any.whl.metadata (5.1 kB)\n",
      "Collecting jinja2 (from torch)\n",
      "  Downloading jinja2-3.1.4-py3-none-any.whl.metadata (2.6 kB)\n",
      "Collecting fsspec (from torch)\n",
      "  Downloading fsspec-2024.9.0-py3-none-any.whl.metadata (11 kB)\n",
      "Requirement already satisfied: setuptools in c:\\users\\dell\\appdata\\local\\programs\\python\\python312\\lib\\site-packages (from torch) (75.1.0)\n",
      "Requirement already satisfied: numpy in c:\\users\\dell\\appdata\\local\\programs\\python\\python312\\lib\\site-packages (from torchvision) (1.26.4)\n",
      "Requirement already satisfied: pillow!=8.3.*,>=5.3.0 in c:\\users\\dell\\appdata\\local\\programs\\python\\python312\\lib\\site-packages (from torchvision) (10.4.0)\n",
      "Requirement already satisfied: MarkupSafe>=2.0 in c:\\users\\dell\\appdata\\local\\programs\\python\\python312\\lib\\site-packages (from jinja2->torch) (2.1.5)\n",
      "Collecting mpmath<1.4,>=1.1.0 (from sympy->torch)\n",
      "  Downloading mpmath-1.3.0-py3-none-any.whl.metadata (8.6 kB)\n",
      "Downloading torch-2.4.1-cp312-cp312-win_amd64.whl (199.4 MB)\n",
      "   ---------------------------------------- 0.0/199.4 MB ? eta -:--:--\n",
      "   ---------------------------------------- 0.0/199.4 MB ? eta -:--:--\n",
      "   ---------------------------------------- 0.8/199.4 MB 4.2 MB/s eta 0:00:48\n",
      "    --------------------------------------- 3.1/199.4 MB 8.4 MB/s eta 0:00:24\n",
      "   - -------------------------------------- 9.4/199.4 MB 16.3 MB/s eta 0:00:12\n",
      "   -- ------------------------------------- 12.1/199.4 MB 18.0 MB/s eta 0:00:11\n",
      "   -- ------------------------------------- 13.6/199.4 MB 15.8 MB/s eta 0:00:12\n",
      "   ---- ----------------------------------- 21.2/199.4 MB 17.9 MB/s eta 0:00:10\n",
      "   ---- ----------------------------------- 23.6/199.4 MB 17.0 MB/s eta 0:00:11\n",
      "   ----- ---------------------------------- 26.5/199.4 MB 16.6 MB/s eta 0:00:11\n",
      "   ----- ---------------------------------- 29.1/199.4 MB 16.5 MB/s eta 0:00:11\n",
      "   ------ --------------------------------- 32.5/199.4 MB 16.2 MB/s eta 0:00:11\n",
      "   ------ --------------------------------- 34.9/199.4 MB 15.6 MB/s eta 0:00:11\n",
      "   ------- -------------------------------- 37.5/199.4 MB 15.5 MB/s eta 0:00:11\n",
      "   -------- ------------------------------- 40.1/199.4 MB 15.3 MB/s eta 0:00:11\n",
      "   -------- ------------------------------- 43.0/199.4 MB 15.1 MB/s eta 0:00:11\n",
      "   --------- ------------------------------ 45.6/199.4 MB 15.0 MB/s eta 0:00:11\n",
      "   --------- ------------------------------ 48.2/199.4 MB 14.9 MB/s eta 0:00:11\n",
      "   ---------- ----------------------------- 51.1/199.4 MB 14.7 MB/s eta 0:00:11\n",
      "   ---------- ----------------------------- 53.7/199.4 MB 14.6 MB/s eta 0:00:11\n",
      "   ----------- ---------------------------- 56.4/199.4 MB 14.5 MB/s eta 0:00:10\n",
      "   ----------- ---------------------------- 59.5/199.4 MB 14.5 MB/s eta 0:00:10\n",
      "   ------------ --------------------------- 62.4/199.4 MB 14.5 MB/s eta 0:00:10\n",
      "   ------------- -------------------------- 65.3/199.4 MB 14.4 MB/s eta 0:00:10\n",
      "   ------------- -------------------------- 68.4/199.4 MB 14.5 MB/s eta 0:00:10\n",
      "   -------------- ------------------------- 71.3/199.4 MB 14.4 MB/s eta 0:00:09\n",
      "   -------------- ------------------------- 74.4/199.4 MB 14.4 MB/s eta 0:00:09\n",
      "   --------------- ------------------------ 77.3/199.4 MB 14.5 MB/s eta 0:00:09\n",
      "   --------------- ------------------------ 78.6/199.4 MB 14.2 MB/s eta 0:00:09\n",
      "   ---------------- ----------------------- 81.3/199.4 MB 14.1 MB/s eta 0:00:09\n",
      "   ---------------- ----------------------- 82.6/199.4 MB 13.9 MB/s eta 0:00:09\n",
      "   ---------------- ----------------------- 84.4/199.4 MB 13.6 MB/s eta 0:00:09\n",
      "   ----------------- ---------------------- 85.5/199.4 MB 13.4 MB/s eta 0:00:09\n",
      "   ----------------- ---------------------- 86.5/199.4 MB 13.1 MB/s eta 0:00:09\n",
      "   ----------------- ---------------------- 87.6/199.4 MB 12.9 MB/s eta 0:00:09\n",
      "   ----------------- ---------------------- 88.9/199.4 MB 12.7 MB/s eta 0:00:09\n",
      "   ------------------ --------------------- 90.2/199.4 MB 12.5 MB/s eta 0:00:09\n",
      "   ------------------ --------------------- 91.2/199.4 MB 12.3 MB/s eta 0:00:09\n",
      "   ------------------ --------------------- 92.3/199.4 MB 12.2 MB/s eta 0:00:09\n",
      "   ------------------ --------------------- 93.6/199.4 MB 12.0 MB/s eta 0:00:09\n",
      "   ------------------- -------------------- 94.9/199.4 MB 11.8 MB/s eta 0:00:09\n",
      "   ------------------- -------------------- 95.9/199.4 MB 11.7 MB/s eta 0:00:09\n",
      "   ------------------- -------------------- 97.3/199.4 MB 11.5 MB/s eta 0:00:09\n",
      "   ------------------- -------------------- 98.6/199.4 MB 11.4 MB/s eta 0:00:09\n",
      "   -------------------- ------------------- 99.9/199.4 MB 11.3 MB/s eta 0:00:09\n",
      "   ------------------- ------------------- 101.2/199.4 MB 11.2 MB/s eta 0:00:09\n",
      "   -------------------- ------------------ 102.5/199.4 MB 11.1 MB/s eta 0:00:09\n",
      "   -------------------- ------------------ 103.8/199.4 MB 11.0 MB/s eta 0:00:09\n",
      "   -------------------- ------------------ 105.1/199.4 MB 10.9 MB/s eta 0:00:09\n",
      "   -------------------- ------------------ 106.4/199.4 MB 10.8 MB/s eta 0:00:09\n",
      "   --------------------- ----------------- 108.0/199.4 MB 10.7 MB/s eta 0:00:09\n",
      "   --------------------- ----------------- 109.3/199.4 MB 10.6 MB/s eta 0:00:09\n",
      "   --------------------- ----------------- 110.6/199.4 MB 10.5 MB/s eta 0:00:09\n",
      "   --------------------- ----------------- 111.9/199.4 MB 10.4 MB/s eta 0:00:09\n",
      "   ---------------------- ---------------- 113.2/199.4 MB 10.3 MB/s eta 0:00:09\n",
      "   ---------------------- ---------------- 114.6/199.4 MB 10.3 MB/s eta 0:00:09\n",
      "   ---------------------- ---------------- 116.1/199.4 MB 10.2 MB/s eta 0:00:09\n",
      "   ---------------------- ---------------- 117.4/199.4 MB 10.1 MB/s eta 0:00:09\n",
      "   ----------------------- --------------- 118.8/199.4 MB 10.1 MB/s eta 0:00:09\n",
      "   ----------------------- --------------- 120.1/199.4 MB 10.0 MB/s eta 0:00:08\n",
      "   ------------------------ --------------- 121.4/199.4 MB 9.9 MB/s eta 0:00:08\n",
      "   ------------------------ --------------- 122.9/199.4 MB 9.9 MB/s eta 0:00:08\n",
      "   ------------------------ --------------- 124.3/199.4 MB 9.8 MB/s eta 0:00:08\n",
      "   ------------------------- -------------- 125.3/199.4 MB 9.8 MB/s eta 0:00:08\n",
      "   ------------------------- -------------- 125.8/199.4 MB 9.7 MB/s eta 0:00:08\n",
      "   ------------------------- -------------- 126.9/199.4 MB 9.6 MB/s eta 0:00:08\n",
      "   ------------------------- -------------- 127.7/199.4 MB 9.5 MB/s eta 0:00:08\n",
      "   ------------------------- -------------- 128.2/199.4 MB 9.4 MB/s eta 0:00:08\n",
      "   ------------------------- -------------- 129.0/199.4 MB 9.3 MB/s eta 0:00:08\n",
      "   -------------------------- ------------- 129.8/199.4 MB 9.2 MB/s eta 0:00:08\n",
      "   -------------------------- ------------- 130.5/199.4 MB 9.1 MB/s eta 0:00:08\n",
      "   -------------------------- ------------- 131.3/199.4 MB 9.1 MB/s eta 0:00:08\n",
      "   -------------------------- ------------- 132.1/199.4 MB 9.0 MB/s eta 0:00:08\n",
      "   -------------------------- ------------- 132.9/199.4 MB 8.9 MB/s eta 0:00:08\n",
      "   -------------------------- ------------- 133.7/199.4 MB 8.8 MB/s eta 0:00:08\n",
      "   -------------------------- ------------- 134.5/199.4 MB 8.8 MB/s eta 0:00:08\n",
      "   --------------------------- ------------ 135.3/199.4 MB 8.7 MB/s eta 0:00:08\n",
      "   --------------------------- ------------ 136.1/199.4 MB 8.6 MB/s eta 0:00:08\n",
      "   --------------------------- ------------ 136.8/199.4 MB 8.6 MB/s eta 0:00:08\n",
      "   --------------------------- ------------ 137.6/199.4 MB 8.5 MB/s eta 0:00:08\n",
      "   --------------------------- ------------ 138.4/199.4 MB 8.5 MB/s eta 0:00:08\n",
      "   --------------------------- ------------ 139.2/199.4 MB 8.4 MB/s eta 0:00:08\n",
      "   ---------------------------- ----------- 140.0/199.4 MB 8.3 MB/s eta 0:00:08\n",
      "   ---------------------------- ----------- 140.8/199.4 MB 8.3 MB/s eta 0:00:08\n",
      "   ---------------------------- ----------- 141.6/199.4 MB 8.2 MB/s eta 0:00:08\n",
      "   ---------------------------- ----------- 142.3/199.4 MB 8.2 MB/s eta 0:00:07\n",
      "   ---------------------------- ----------- 143.1/199.4 MB 8.1 MB/s eta 0:00:07\n",
      "   ---------------------------- ----------- 143.9/199.4 MB 8.1 MB/s eta 0:00:07\n",
      "   ----------------------------- ---------- 144.7/199.4 MB 8.0 MB/s eta 0:00:07\n",
      "   ----------------------------- ---------- 145.5/199.4 MB 8.0 MB/s eta 0:00:07\n",
      "   ----------------------------- ---------- 146.0/199.4 MB 7.9 MB/s eta 0:00:07\n",
      "   ----------------------------- ---------- 147.1/199.4 MB 7.9 MB/s eta 0:00:07\n",
      "   ----------------------------- ---------- 147.8/199.4 MB 7.8 MB/s eta 0:00:07\n",
      "   ----------------------------- ---------- 148.6/199.4 MB 7.8 MB/s eta 0:00:07\n",
      "   ----------------------------- ---------- 149.4/199.4 MB 7.7 MB/s eta 0:00:07\n",
      "   ------------------------------ --------- 150.2/199.4 MB 7.7 MB/s eta 0:00:07\n",
      "   ------------------------------ --------- 151.0/199.4 MB 7.7 MB/s eta 0:00:07\n",
      "   ------------------------------ --------- 151.8/199.4 MB 7.6 MB/s eta 0:00:07\n",
      "   ------------------------------ --------- 152.3/199.4 MB 7.6 MB/s eta 0:00:07\n",
      "   ------------------------------ --------- 153.4/199.4 MB 7.5 MB/s eta 0:00:07\n",
      "   ------------------------------ --------- 154.1/199.4 MB 7.5 MB/s eta 0:00:07\n",
      "   ------------------------------- -------- 154.7/199.4 MB 7.5 MB/s eta 0:00:06\n",
      "   ------------------------------- -------- 155.5/199.4 MB 7.4 MB/s eta 0:00:06\n",
      "   ------------------------------- -------- 155.7/199.4 MB 7.4 MB/s eta 0:00:06\n",
      "   ------------------------------- -------- 156.2/199.4 MB 7.3 MB/s eta 0:00:06\n",
      "   ------------------------------- -------- 156.5/199.4 MB 7.3 MB/s eta 0:00:06\n",
      "   ------------------------------- -------- 156.8/199.4 MB 7.2 MB/s eta 0:00:06\n",
      "   ------------------------------- -------- 157.0/199.4 MB 7.2 MB/s eta 0:00:06\n",
      "   ------------------------------- -------- 157.3/199.4 MB 7.1 MB/s eta 0:00:06\n",
      "   ------------------------------- -------- 157.5/199.4 MB 7.1 MB/s eta 0:00:06\n",
      "   ------------------------------- -------- 157.5/199.4 MB 7.1 MB/s eta 0:00:06\n",
      "   ------------------------------- -------- 157.8/199.4 MB 7.0 MB/s eta 0:00:06\n",
      "   ------------------------------- -------- 158.1/199.4 MB 6.9 MB/s eta 0:00:07\n",
      "   ------------------------------- -------- 158.1/199.4 MB 6.9 MB/s eta 0:00:07\n",
      "   ------------------------------- -------- 158.3/199.4 MB 6.8 MB/s eta 0:00:07\n",
      "   ------------------------------- -------- 158.6/199.4 MB 6.7 MB/s eta 0:00:07\n",
      "   ------------------------------- -------- 158.9/199.4 MB 6.7 MB/s eta 0:00:07\n",
      "   ------------------------------- -------- 158.9/199.4 MB 6.7 MB/s eta 0:00:07\n",
      "   ------------------------------- -------- 159.1/199.4 MB 6.6 MB/s eta 0:00:07\n",
      "   ------------------------------- -------- 159.4/199.4 MB 6.5 MB/s eta 0:00:07\n",
      "   -------------------------------- ------- 159.6/199.4 MB 6.5 MB/s eta 0:00:07\n",
      "   -------------------------------- ------- 159.6/199.4 MB 6.5 MB/s eta 0:00:07\n",
      "   -------------------------------- ------- 159.9/199.4 MB 6.4 MB/s eta 0:00:07\n",
      "   -------------------------------- ------- 160.2/199.4 MB 6.3 MB/s eta 0:00:07\n",
      "   -------------------------------- ------- 160.4/199.4 MB 6.3 MB/s eta 0:00:07\n",
      "   -------------------------------- ------- 160.4/199.4 MB 6.3 MB/s eta 0:00:07\n",
      "   -------------------------------- ------- 160.7/199.4 MB 6.2 MB/s eta 0:00:07\n",
      "   -------------------------------- ------- 161.0/199.4 MB 6.2 MB/s eta 0:00:07\n",
      "   -------------------------------- ------- 161.2/199.4 MB 6.1 MB/s eta 0:00:07\n",
      "   -------------------------------- ------- 161.5/199.4 MB 6.1 MB/s eta 0:00:07\n",
      "   -------------------------------- ------- 161.5/199.4 MB 6.1 MB/s eta 0:00:07\n",
      "   -------------------------------- ------- 161.7/199.4 MB 6.0 MB/s eta 0:00:07\n",
      "   -------------------------------- ------- 162.0/199.4 MB 6.0 MB/s eta 0:00:07\n",
      "   -------------------------------- ------- 162.3/199.4 MB 5.9 MB/s eta 0:00:07\n",
      "   -------------------------------- ------- 162.3/199.4 MB 5.9 MB/s eta 0:00:07\n",
      "   -------------------------------- ------- 162.5/199.4 MB 5.9 MB/s eta 0:00:07\n",
      "   -------------------------------- ------- 162.8/199.4 MB 5.8 MB/s eta 0:00:07\n",
      "   -------------------------------- ------- 163.1/199.4 MB 5.8 MB/s eta 0:00:07\n",
      "   -------------------------------- ------- 163.1/199.4 MB 5.8 MB/s eta 0:00:07\n",
      "   -------------------------------- ------- 163.3/199.4 MB 5.7 MB/s eta 0:00:07\n",
      "   -------------------------------- ------- 163.6/199.4 MB 5.7 MB/s eta 0:00:07\n",
      "   -------------------------------- ------- 163.8/199.4 MB 5.6 MB/s eta 0:00:07\n",
      "   -------------------------------- ------- 164.1/199.4 MB 5.6 MB/s eta 0:00:07\n",
      "   -------------------------------- ------- 164.1/199.4 MB 5.6 MB/s eta 0:00:07\n",
      "   -------------------------------- ------- 164.4/199.4 MB 5.6 MB/s eta 0:00:07\n",
      "   --------------------------------- ------ 164.6/199.4 MB 5.5 MB/s eta 0:00:07\n",
      "   --------------------------------- ------ 164.9/199.4 MB 5.5 MB/s eta 0:00:07\n",
      "   --------------------------------- ------ 165.2/199.4 MB 5.4 MB/s eta 0:00:07\n",
      "   --------------------------------- ------ 165.4/199.4 MB 5.3 MB/s eta 0:00:07\n",
      "   --------------------------------- ------ 165.7/199.4 MB 5.1 MB/s eta 0:00:07\n",
      "   --------------------------------- ------ 165.7/199.4 MB 5.1 MB/s eta 0:00:07\n",
      "   --------------------------------- ------ 165.9/199.4 MB 5.1 MB/s eta 0:00:07\n",
      "   --------------------------------- ------ 166.2/199.4 MB 4.8 MB/s eta 0:00:07\n",
      "   --------------------------------- ------ 166.5/199.4 MB 4.7 MB/s eta 0:00:07\n",
      "   --------------------------------- ------ 166.7/199.4 MB 4.6 MB/s eta 0:00:08\n",
      "   --------------------------------- ------ 167.0/199.4 MB 4.5 MB/s eta 0:00:08\n",
      "   --------------------------------- ------ 167.2/199.4 MB 4.4 MB/s eta 0:00:08\n",
      "   --------------------------------- ------ 167.2/199.4 MB 4.4 MB/s eta 0:00:08\n",
      "   --------------------------------- ------ 167.5/199.4 MB 4.3 MB/s eta 0:00:08\n",
      "   --------------------------------- ------ 167.8/199.4 MB 4.2 MB/s eta 0:00:08\n",
      "   --------------------------------- ------ 168.0/199.4 MB 4.1 MB/s eta 0:00:08\n",
      "   --------------------------------- ------ 168.3/199.4 MB 4.0 MB/s eta 0:00:08\n",
      "   --------------------------------- ------ 168.6/199.4 MB 3.9 MB/s eta 0:00:08\n",
      "   --------------------------------- ------ 168.8/199.4 MB 3.9 MB/s eta 0:00:08\n",
      "   --------------------------------- ------ 169.1/199.4 MB 3.8 MB/s eta 0:00:09\n",
      "   --------------------------------- ------ 169.3/199.4 MB 3.7 MB/s eta 0:00:09\n",
      "   ---------------------------------- ----- 169.6/199.4 MB 3.6 MB/s eta 0:00:09\n",
      "   ---------------------------------- ----- 169.9/199.4 MB 3.5 MB/s eta 0:00:09\n",
      "   ---------------------------------- ----- 170.1/199.4 MB 3.4 MB/s eta 0:00:09\n",
      "   ---------------------------------- ----- 170.1/199.4 MB 3.4 MB/s eta 0:00:09\n",
      "   ---------------------------------- ----- 170.4/199.4 MB 3.3 MB/s eta 0:00:09\n",
      "   ---------------------------------- ----- 170.7/199.4 MB 3.2 MB/s eta 0:00:10\n",
      "   ---------------------------------- ----- 171.2/199.4 MB 3.1 MB/s eta 0:00:10\n",
      "   ---------------------------------- ----- 171.4/199.4 MB 3.0 MB/s eta 0:00:10\n",
      "   ---------------------------------- ----- 171.7/199.4 MB 3.0 MB/s eta 0:00:10\n",
      "   ---------------------------------- ----- 172.0/199.4 MB 2.9 MB/s eta 0:00:10\n",
      "   ---------------------------------- ----- 172.5/199.4 MB 2.9 MB/s eta 0:00:10\n",
      "   ---------------------------------- ----- 172.8/199.4 MB 2.9 MB/s eta 0:00:10\n",
      "   ---------------------------------- ----- 173.3/199.4 MB 2.8 MB/s eta 0:00:10\n",
      "   ---------------------------------- ----- 173.5/199.4 MB 2.8 MB/s eta 0:00:10\n",
      "   ---------------------------------- ----- 174.1/199.4 MB 2.8 MB/s eta 0:00:10\n",
      "   ----------------------------------- ---- 174.6/199.4 MB 2.8 MB/s eta 0:00:09\n",
      "   ----------------------------------- ---- 174.9/199.4 MB 2.7 MB/s eta 0:00:09\n",
      "   ----------------------------------- ---- 175.4/199.4 MB 2.7 MB/s eta 0:00:09\n",
      "   ----------------------------------- ---- 176.2/199.4 MB 2.7 MB/s eta 0:00:09\n",
      "   ----------------------------------- ---- 176.7/199.4 MB 2.7 MB/s eta 0:00:09\n",
      "   ----------------------------------- ---- 177.2/199.4 MB 2.6 MB/s eta 0:00:09\n",
      "   ----------------------------------- ---- 177.7/199.4 MB 2.6 MB/s eta 0:00:09\n",
      "   ----------------------------------- ---- 178.5/199.4 MB 2.6 MB/s eta 0:00:09\n",
      "   ----------------------------------- ---- 179.0/199.4 MB 2.6 MB/s eta 0:00:08\n",
      "   ------------------------------------ --- 179.8/199.4 MB 2.6 MB/s eta 0:00:08\n",
      "   ------------------------------------ --- 180.6/199.4 MB 2.5 MB/s eta 0:00:08\n",
      "   ------------------------------------ --- 181.7/199.4 MB 2.5 MB/s eta 0:00:08\n",
      "   ------------------------------------ --- 182.5/199.4 MB 2.5 MB/s eta 0:00:07\n",
      "   ------------------------------------ --- 183.2/199.4 MB 2.5 MB/s eta 0:00:07\n",
      "   ------------------------------------ --- 184.3/199.4 MB 2.5 MB/s eta 0:00:07\n",
      "   ------------------------------------- -- 185.1/199.4 MB 2.5 MB/s eta 0:00:06\n",
      "   ------------------------------------- -- 186.4/199.4 MB 2.5 MB/s eta 0:00:06\n",
      "   ------------------------------------- -- 187.4/199.4 MB 2.4 MB/s eta 0:00:05\n",
      "   ------------------------------------- -- 188.7/199.4 MB 2.4 MB/s eta 0:00:05\n",
      "   -------------------------------------- - 190.1/199.4 MB 2.4 MB/s eta 0:00:04\n",
      "   -------------------------------------- - 191.4/199.4 MB 2.4 MB/s eta 0:00:04\n",
      "   -------------------------------------- - 192.7/199.4 MB 2.4 MB/s eta 0:00:03\n",
      "   ---------------------------------------  194.5/199.4 MB 2.4 MB/s eta 0:00:02\n",
      "   ---------------------------------------  196.1/199.4 MB 2.5 MB/s eta 0:00:02\n",
      "   ---------------------------------------  197.7/199.4 MB 2.5 MB/s eta 0:00:01\n",
      "   ---------------------------------------  198.4/199.4 MB 2.5 MB/s eta 0:00:01\n",
      "   ---------------------------------------  199.2/199.4 MB 2.5 MB/s eta 0:00:01\n",
      "   ---------------------------------------  199.2/199.4 MB 2.5 MB/s eta 0:00:01\n",
      "   ---------------------------------------- 199.4/199.4 MB 2.4 MB/s eta 0:00:00\n",
      "Downloading torchvision-0.19.1-cp312-cp312-win_amd64.whl (1.3 MB)\n",
      "   ---------------------------------------- 0.0/1.3 MB ? eta -:--:--\n",
      "   -------------------------------- ------- 1.0/1.3 MB 6.3 MB/s eta 0:00:01\n",
      "   ---------------------------------------- 1.3/1.3 MB 6.0 MB/s eta 0:00:00\n",
      "Downloading torchaudio-2.4.1-cp312-cp312-win_amd64.whl (2.4 MB)\n",
      "   ---------------------------------------- 0.0/2.4 MB ? eta -:--:--\n",
      "   ------------- -------------------------- 0.8/2.4 MB 5.6 MB/s eta 0:00:01\n",
      "   ------------------------------ --------- 1.8/2.4 MB 5.3 MB/s eta 0:00:01\n",
      "   ---------------------------------------- 2.4/2.4 MB 5.1 MB/s eta 0:00:00\n",
      "Downloading filelock-3.16.1-py3-none-any.whl (16 kB)\n",
      "Downloading fsspec-2024.9.0-py3-none-any.whl (179 kB)\n",
      "Downloading jinja2-3.1.4-py3-none-any.whl (133 kB)\n",
      "Downloading networkx-3.3-py3-none-any.whl (1.7 MB)\n",
      "   ---------------------------------------- 0.0/1.7 MB ? eta -:--:--\n",
      "   ------------ --------------------------- 0.5/1.7 MB 2.8 MB/s eta 0:00:01\n",
      "   ------------------------------ --------- 1.3/1.7 MB 3.2 MB/s eta 0:00:01\n",
      "   ---------------------------------------- 1.7/1.7 MB 3.2 MB/s eta 0:00:00\n",
      "Downloading sympy-1.13.2-py3-none-any.whl (6.2 MB)\n",
      "   ---------------------------------------- 0.0/6.2 MB ? eta -:--:--\n",
      "   --- ------------------------------------ 0.5/6.2 MB 2.8 MB/s eta 0:00:03\n",
      "   -------- ------------------------------- 1.3/6.2 MB 2.9 MB/s eta 0:00:02\n",
      "   ----------- ---------------------------- 1.8/6.2 MB 3.0 MB/s eta 0:00:02\n",
      "   ---------------- ----------------------- 2.6/6.2 MB 3.1 MB/s eta 0:00:02\n",
      "   -------------------- ------------------- 3.1/6.2 MB 3.2 MB/s eta 0:00:01\n",
      "   ------------------------- -------------- 3.9/6.2 MB 3.1 MB/s eta 0:00:01\n",
      "   ------------------------------ --------- 4.7/6.2 MB 3.2 MB/s eta 0:00:01\n",
      "   --------------------------------- ------ 5.2/6.2 MB 3.2 MB/s eta 0:00:01\n",
      "   -------------------------------------- - 6.0/6.2 MB 3.2 MB/s eta 0:00:01\n",
      "   ---------------------------------------- 6.2/6.2 MB 3.2 MB/s eta 0:00:00\n",
      "Downloading mpmath-1.3.0-py3-none-any.whl (536 kB)\n",
      "   ---------------------------------------- 0.0/536.2 kB ? eta -:--:--\n",
      "   ------------------- -------------------- 262.1/536.2 kB ? eta -:--:--\n",
      "   ---------------------------------------- 536.2/536.2 kB 1.9 MB/s eta 0:00:00\n",
      "Installing collected packages: mpmath, sympy, networkx, jinja2, fsspec, filelock, torch, torchvision, torchaudio\n",
      "Successfully installed filelock-3.16.1 fsspec-2024.9.0 jinja2-3.1.4 mpmath-1.3.0 networkx-3.3 sympy-1.13.2 torch-2.4.1 torchaudio-2.4.1 torchvision-0.19.1\n",
      "Note: you may need to restart the kernel to use updated packages.\n"
     ]
    },
    {
     "name": "stderr",
     "output_type": "stream",
     "text": [
      "  WARNING: The script isympy.exe is installed in 'c:\\Users\\DELL\\AppData\\Local\\Programs\\Python\\Python312\\Scripts' which is not on PATH.\n",
      "  Consider adding this directory to PATH or, if you prefer to suppress this warning, use --no-warn-script-location.\n",
      "  WARNING: The scripts convert-caffe2-to-onnx.exe, convert-onnx-to-caffe2.exe and torchrun.exe are installed in 'c:\\Users\\DELL\\AppData\\Local\\Programs\\Python\\Python312\\Scripts' which is not on PATH.\n",
      "  Consider adding this directory to PATH or, if you prefer to suppress this warning, use --no-warn-script-location.\n"
     ]
    }
   ],
   "source": [
    "pip install torch torchvision torchaudio\n"
   ]
  },
  {
   "cell_type": "code",
   "execution_count": 11,
   "metadata": {},
   "outputs": [
    {
     "name": "stdout",
     "output_type": "stream",
     "text": [
      "Requirement already satisfied: setuptools in c:\\users\\dell\\appdata\\local\\programs\\python\\python312\\lib\\site-packages (75.1.0)\n",
      "Note: you may need to restart the kernel to use updated packages.\n"
     ]
    }
   ],
   "source": [
    "pip install setuptools\n"
   ]
  },
  {
   "cell_type": "code",
   "execution_count": 19,
   "metadata": {},
   "outputs": [
    {
     "name": "stdout",
     "output_type": "stream",
     "text": [
      "Requirement already satisfied: torch in c:\\users\\dell\\appdata\\local\\programs\\python\\python312\\lib\\site-packages (2.4.1)\n",
      "Requirement already satisfied: torchvision in c:\\users\\dell\\appdata\\local\\programs\\python\\python312\\lib\\site-packages (0.19.1)\n",
      "Requirement already satisfied: pillow in c:\\users\\dell\\appdata\\local\\programs\\python\\python312\\lib\\site-packages (10.4.0)\n",
      "Requirement already satisfied: filelock in c:\\users\\dell\\appdata\\local\\programs\\python\\python312\\lib\\site-packages (from torch) (3.16.1)\n",
      "Requirement already satisfied: typing-extensions>=4.8.0 in c:\\users\\dell\\appdata\\local\\programs\\python\\python312\\lib\\site-packages (from torch) (4.12.2)\n",
      "Requirement already satisfied: sympy in c:\\users\\dell\\appdata\\local\\programs\\python\\python312\\lib\\site-packages (from torch) (1.13.2)\n",
      "Requirement already satisfied: networkx in c:\\users\\dell\\appdata\\local\\programs\\python\\python312\\lib\\site-packages (from torch) (3.3)\n",
      "Requirement already satisfied: jinja2 in c:\\users\\dell\\appdata\\local\\programs\\python\\python312\\lib\\site-packages (from torch) (3.1.4)\n",
      "Requirement already satisfied: fsspec in c:\\users\\dell\\appdata\\local\\programs\\python\\python312\\lib\\site-packages (from torch) (2024.9.0)\n",
      "Requirement already satisfied: setuptools in c:\\users\\dell\\appdata\\local\\programs\\python\\python312\\lib\\site-packages (from torch) (75.1.0)\n",
      "Requirement already satisfied: numpy in c:\\users\\dell\\appdata\\local\\programs\\python\\python312\\lib\\site-packages (from torchvision) (1.26.4)\n",
      "Requirement already satisfied: MarkupSafe>=2.0 in c:\\users\\dell\\appdata\\local\\programs\\python\\python312\\lib\\site-packages (from jinja2->torch) (2.1.5)\n",
      "Requirement already satisfied: mpmath<1.4,>=1.1.0 in c:\\users\\dell\\appdata\\local\\programs\\python\\python312\\lib\\site-packages (from sympy->torch) (1.3.0)\n",
      "Note: you may need to restart the kernel to use updated packages.\n"
     ]
    }
   ],
   "source": [
    "pip install torch torchvision pillow\n"
   ]
  },
  {
   "cell_type": "code",
   "execution_count": 21,
   "metadata": {},
   "outputs": [
    {
     "name": "stdout",
     "output_type": "stream",
     "text": [
      "Requirement already satisfied: torch in c:\\users\\dell\\appdata\\local\\programs\\python\\python312\\lib\\site-packages (2.4.1)\n",
      "Requirement already satisfied: torchvision in c:\\users\\dell\\appdata\\local\\programs\\python\\python312\\lib\\site-packages (0.19.1)\n",
      "Requirement already satisfied: matplotlib in c:\\users\\dell\\appdata\\local\\programs\\python\\python312\\lib\\site-packages (3.9.2)\n",
      "Requirement already satisfied: filelock in c:\\users\\dell\\appdata\\local\\programs\\python\\python312\\lib\\site-packages (from torch) (3.16.1)\n",
      "Requirement already satisfied: typing-extensions>=4.8.0 in c:\\users\\dell\\appdata\\local\\programs\\python\\python312\\lib\\site-packages (from torch) (4.12.2)\n",
      "Requirement already satisfied: sympy in c:\\users\\dell\\appdata\\local\\programs\\python\\python312\\lib\\site-packages (from torch) (1.13.2)\n",
      "Requirement already satisfied: networkx in c:\\users\\dell\\appdata\\local\\programs\\python\\python312\\lib\\site-packages (from torch) (3.3)\n",
      "Requirement already satisfied: jinja2 in c:\\users\\dell\\appdata\\local\\programs\\python\\python312\\lib\\site-packages (from torch) (3.1.4)\n",
      "Requirement already satisfied: fsspec in c:\\users\\dell\\appdata\\local\\programs\\python\\python312\\lib\\site-packages (from torch) (2024.9.0)\n",
      "Requirement already satisfied: setuptools in c:\\users\\dell\\appdata\\local\\programs\\python\\python312\\lib\\site-packages (from torch) (75.1.0)\n",
      "Requirement already satisfied: numpy in c:\\users\\dell\\appdata\\local\\programs\\python\\python312\\lib\\site-packages (from torchvision) (1.26.4)\n",
      "Requirement already satisfied: pillow!=8.3.*,>=5.3.0 in c:\\users\\dell\\appdata\\local\\programs\\python\\python312\\lib\\site-packages (from torchvision) (10.4.0)\n",
      "Requirement already satisfied: contourpy>=1.0.1 in c:\\users\\dell\\appdata\\local\\programs\\python\\python312\\lib\\site-packages (from matplotlib) (1.3.0)\n",
      "Requirement already satisfied: cycler>=0.10 in c:\\users\\dell\\appdata\\local\\programs\\python\\python312\\lib\\site-packages (from matplotlib) (0.12.1)\n",
      "Requirement already satisfied: fonttools>=4.22.0 in c:\\users\\dell\\appdata\\local\\programs\\python\\python312\\lib\\site-packages (from matplotlib) (4.53.1)\n",
      "Requirement already satisfied: kiwisolver>=1.3.1 in c:\\users\\dell\\appdata\\local\\programs\\python\\python312\\lib\\site-packages (from matplotlib) (1.4.7)\n",
      "Requirement already satisfied: packaging>=20.0 in c:\\users\\dell\\appdata\\roaming\\python\\python312\\site-packages (from matplotlib) (24.1)\n",
      "Requirement already satisfied: pyparsing>=2.3.1 in c:\\users\\dell\\appdata\\local\\programs\\python\\python312\\lib\\site-packages (from matplotlib) (3.1.4)\n",
      "Requirement already satisfied: python-dateutil>=2.7 in c:\\users\\dell\\appdata\\roaming\\python\\python312\\site-packages (from matplotlib) (2.9.0.post0)\n",
      "Requirement already satisfied: six>=1.5 in c:\\users\\dell\\appdata\\roaming\\python\\python312\\site-packages (from python-dateutil>=2.7->matplotlib) (1.16.0)\n",
      "Requirement already satisfied: MarkupSafe>=2.0 in c:\\users\\dell\\appdata\\local\\programs\\python\\python312\\lib\\site-packages (from jinja2->torch) (2.1.5)\n",
      "Requirement already satisfied: mpmath<1.4,>=1.1.0 in c:\\users\\dell\\appdata\\local\\programs\\python\\python312\\lib\\site-packages (from sympy->torch) (1.3.0)\n",
      "Note: you may need to restart the kernel to use updated packages.\n"
     ]
    }
   ],
   "source": [
    "pip install torch torchvision matplotlib\n"
   ]
  },
  {
   "cell_type": "code",
   "execution_count": 28,
   "metadata": {},
   "outputs": [
    {
     "name": "stdout",
     "output_type": "stream",
     "text": [
      "Requirement already satisfied: tensorflow in c:\\users\\dell\\appdata\\local\\programs\\python\\python312\\lib\\site-packages (2.17.0)\n",
      "Requirement already satisfied: tensorflow-intel==2.17.0 in c:\\users\\dell\\appdata\\local\\programs\\python\\python312\\lib\\site-packages (from tensorflow) (2.17.0)\n",
      "Requirement already satisfied: absl-py>=1.0.0 in c:\\users\\dell\\appdata\\local\\programs\\python\\python312\\lib\\site-packages (from tensorflow-intel==2.17.0->tensorflow) (2.1.0)\n",
      "Requirement already satisfied: astunparse>=1.6.0 in c:\\users\\dell\\appdata\\local\\programs\\python\\python312\\lib\\site-packages (from tensorflow-intel==2.17.0->tensorflow) (1.6.3)\n",
      "Requirement already satisfied: flatbuffers>=24.3.25 in c:\\users\\dell\\appdata\\local\\programs\\python\\python312\\lib\\site-packages (from tensorflow-intel==2.17.0->tensorflow) (24.3.25)\n",
      "Requirement already satisfied: gast!=0.5.0,!=0.5.1,!=0.5.2,>=0.2.1 in c:\\users\\dell\\appdata\\local\\programs\\python\\python312\\lib\\site-packages (from tensorflow-intel==2.17.0->tensorflow) (0.6.0)\n",
      "Requirement already satisfied: google-pasta>=0.1.1 in c:\\users\\dell\\appdata\\local\\programs\\python\\python312\\lib\\site-packages (from tensorflow-intel==2.17.0->tensorflow) (0.2.0)\n",
      "Requirement already satisfied: h5py>=3.10.0 in c:\\users\\dell\\appdata\\local\\programs\\python\\python312\\lib\\site-packages (from tensorflow-intel==2.17.0->tensorflow) (3.11.0)\n",
      "Requirement already satisfied: libclang>=13.0.0 in c:\\users\\dell\\appdata\\local\\programs\\python\\python312\\lib\\site-packages (from tensorflow-intel==2.17.0->tensorflow) (18.1.1)\n",
      "Requirement already satisfied: ml-dtypes<0.5.0,>=0.3.1 in c:\\users\\dell\\appdata\\local\\programs\\python\\python312\\lib\\site-packages (from tensorflow-intel==2.17.0->tensorflow) (0.4.1)\n",
      "Requirement already satisfied: opt-einsum>=2.3.2 in c:\\users\\dell\\appdata\\local\\programs\\python\\python312\\lib\\site-packages (from tensorflow-intel==2.17.0->tensorflow) (3.3.0)\n",
      "Requirement already satisfied: packaging in c:\\users\\dell\\appdata\\roaming\\python\\python312\\site-packages (from tensorflow-intel==2.17.0->tensorflow) (24.1)\n",
      "Requirement already satisfied: protobuf!=4.21.0,!=4.21.1,!=4.21.2,!=4.21.3,!=4.21.4,!=4.21.5,<5.0.0dev,>=3.20.3 in c:\\users\\dell\\appdata\\local\\programs\\python\\python312\\lib\\site-packages (from tensorflow-intel==2.17.0->tensorflow) (4.25.4)\n",
      "Requirement already satisfied: requests<3,>=2.21.0 in c:\\users\\dell\\appdata\\local\\programs\\python\\python312\\lib\\site-packages (from tensorflow-intel==2.17.0->tensorflow) (2.32.3)\n",
      "Requirement already satisfied: setuptools in c:\\users\\dell\\appdata\\local\\programs\\python\\python312\\lib\\site-packages (from tensorflow-intel==2.17.0->tensorflow) (75.1.0)\n",
      "Requirement already satisfied: six>=1.12.0 in c:\\users\\dell\\appdata\\roaming\\python\\python312\\site-packages (from tensorflow-intel==2.17.0->tensorflow) (1.16.0)\n",
      "Requirement already satisfied: termcolor>=1.1.0 in c:\\users\\dell\\appdata\\local\\programs\\python\\python312\\lib\\site-packages (from tensorflow-intel==2.17.0->tensorflow) (2.4.0)\n",
      "Requirement already satisfied: typing-extensions>=3.6.6 in c:\\users\\dell\\appdata\\local\\programs\\python\\python312\\lib\\site-packages (from tensorflow-intel==2.17.0->tensorflow) (4.12.2)\n",
      "Requirement already satisfied: wrapt>=1.11.0 in c:\\users\\dell\\appdata\\local\\programs\\python\\python312\\lib\\site-packages (from tensorflow-intel==2.17.0->tensorflow) (1.16.0)\n",
      "Requirement already satisfied: grpcio<2.0,>=1.24.3 in c:\\users\\dell\\appdata\\local\\programs\\python\\python312\\lib\\site-packages (from tensorflow-intel==2.17.0->tensorflow) (1.66.1)\n",
      "Requirement already satisfied: tensorboard<2.18,>=2.17 in c:\\users\\dell\\appdata\\local\\programs\\python\\python312\\lib\\site-packages (from tensorflow-intel==2.17.0->tensorflow) (2.17.1)\n",
      "Requirement already satisfied: keras>=3.2.0 in c:\\users\\dell\\appdata\\local\\programs\\python\\python312\\lib\\site-packages (from tensorflow-intel==2.17.0->tensorflow) (3.5.0)\n",
      "Requirement already satisfied: numpy<2.0.0,>=1.26.0 in c:\\users\\dell\\appdata\\local\\programs\\python\\python312\\lib\\site-packages (from tensorflow-intel==2.17.0->tensorflow) (1.26.4)\n",
      "Requirement already satisfied: wheel<1.0,>=0.23.0 in c:\\users\\dell\\appdata\\local\\programs\\python\\python312\\lib\\site-packages (from astunparse>=1.6.0->tensorflow-intel==2.17.0->tensorflow) (0.44.0)\n",
      "Requirement already satisfied: rich in c:\\users\\dell\\appdata\\local\\programs\\python\\python312\\lib\\site-packages (from keras>=3.2.0->tensorflow-intel==2.17.0->tensorflow) (13.8.1)\n",
      "Requirement already satisfied: namex in c:\\users\\dell\\appdata\\local\\programs\\python\\python312\\lib\\site-packages (from keras>=3.2.0->tensorflow-intel==2.17.0->tensorflow) (0.0.8)\n",
      "Requirement already satisfied: optree in c:\\users\\dell\\appdata\\local\\programs\\python\\python312\\lib\\site-packages (from keras>=3.2.0->tensorflow-intel==2.17.0->tensorflow) (0.12.1)\n",
      "Requirement already satisfied: charset-normalizer<4,>=2 in c:\\users\\dell\\appdata\\local\\programs\\python\\python312\\lib\\site-packages (from requests<3,>=2.21.0->tensorflow-intel==2.17.0->tensorflow) (3.3.2)\n",
      "Requirement already satisfied: idna<4,>=2.5 in c:\\users\\dell\\appdata\\local\\programs\\python\\python312\\lib\\site-packages (from requests<3,>=2.21.0->tensorflow-intel==2.17.0->tensorflow) (3.10)\n",
      "Requirement already satisfied: urllib3<3,>=1.21.1 in c:\\users\\dell\\appdata\\local\\programs\\python\\python312\\lib\\site-packages (from requests<3,>=2.21.0->tensorflow-intel==2.17.0->tensorflow) (2.2.3)\n",
      "Requirement already satisfied: certifi>=2017.4.17 in c:\\users\\dell\\appdata\\local\\programs\\python\\python312\\lib\\site-packages (from requests<3,>=2.21.0->tensorflow-intel==2.17.0->tensorflow) (2024.8.30)\n",
      "Requirement already satisfied: markdown>=2.6.8 in c:\\users\\dell\\appdata\\local\\programs\\python\\python312\\lib\\site-packages (from tensorboard<2.18,>=2.17->tensorflow-intel==2.17.0->tensorflow) (3.7)\n",
      "Requirement already satisfied: tensorboard-data-server<0.8.0,>=0.7.0 in c:\\users\\dell\\appdata\\local\\programs\\python\\python312\\lib\\site-packages (from tensorboard<2.18,>=2.17->tensorflow-intel==2.17.0->tensorflow) (0.7.2)\n",
      "Requirement already satisfied: werkzeug>=1.0.1 in c:\\users\\dell\\appdata\\local\\programs\\python\\python312\\lib\\site-packages (from tensorboard<2.18,>=2.17->tensorflow-intel==2.17.0->tensorflow) (3.0.4)\n",
      "Requirement already satisfied: MarkupSafe>=2.1.1 in c:\\users\\dell\\appdata\\local\\programs\\python\\python312\\lib\\site-packages (from werkzeug>=1.0.1->tensorboard<2.18,>=2.17->tensorflow-intel==2.17.0->tensorflow) (2.1.5)\n",
      "Requirement already satisfied: markdown-it-py>=2.2.0 in c:\\users\\dell\\appdata\\local\\programs\\python\\python312\\lib\\site-packages (from rich->keras>=3.2.0->tensorflow-intel==2.17.0->tensorflow) (3.0.0)\n",
      "Requirement already satisfied: pygments<3.0.0,>=2.13.0 in c:\\users\\dell\\appdata\\roaming\\python\\python312\\site-packages (from rich->keras>=3.2.0->tensorflow-intel==2.17.0->tensorflow) (2.18.0)\n",
      "Requirement already satisfied: mdurl~=0.1 in c:\\users\\dell\\appdata\\local\\programs\\python\\python312\\lib\\site-packages (from markdown-it-py>=2.2.0->rich->keras>=3.2.0->tensorflow-intel==2.17.0->tensorflow) (0.1.2)\n",
      "Note: you may need to restart the kernel to use updated packages.\n"
     ]
    }
   ],
   "source": [
    "pip install tensorflow"
   ]
  },
  {
   "cell_type": "code",
   "execution_count": 41,
   "metadata": {},
   "outputs": [
    {
     "name": "stdout",
     "output_type": "stream",
     "text": [
      "Requirement already satisfied: torch in c:\\users\\dell\\appdata\\local\\programs\\python\\python312\\lib\\site-packages (2.4.1)\n",
      "Requirement already satisfied: torchvision in c:\\users\\dell\\appdata\\local\\programs\\python\\python312\\lib\\site-packages (0.19.1)\n",
      "Requirement already satisfied: filelock in c:\\users\\dell\\appdata\\local\\programs\\python\\python312\\lib\\site-packages (from torch) (3.16.1)\n",
      "Requirement already satisfied: typing-extensions>=4.8.0 in c:\\users\\dell\\appdata\\local\\programs\\python\\python312\\lib\\site-packages (from torch) (4.12.2)\n",
      "Requirement already satisfied: sympy in c:\\users\\dell\\appdata\\local\\programs\\python\\python312\\lib\\site-packages (from torch) (1.13.2)\n",
      "Requirement already satisfied: networkx in c:\\users\\dell\\appdata\\local\\programs\\python\\python312\\lib\\site-packages (from torch) (3.3)\n",
      "Requirement already satisfied: jinja2 in c:\\users\\dell\\appdata\\local\\programs\\python\\python312\\lib\\site-packages (from torch) (3.1.4)\n",
      "Requirement already satisfied: fsspec in c:\\users\\dell\\appdata\\local\\programs\\python\\python312\\lib\\site-packages (from torch) (2024.9.0)\n",
      "Requirement already satisfied: setuptools in c:\\users\\dell\\appdata\\local\\programs\\python\\python312\\lib\\site-packages (from torch) (75.1.0)\n",
      "Requirement already satisfied: numpy in c:\\users\\dell\\appdata\\local\\programs\\python\\python312\\lib\\site-packages (from torchvision) (1.26.4)\n",
      "Requirement already satisfied: pillow!=8.3.*,>=5.3.0 in c:\\users\\dell\\appdata\\local\\programs\\python\\python312\\lib\\site-packages (from torchvision) (10.4.0)\n",
      "Requirement already satisfied: MarkupSafe>=2.0 in c:\\users\\dell\\appdata\\local\\programs\\python\\python312\\lib\\site-packages (from jinja2->torch) (2.1.5)\n",
      "Requirement already satisfied: mpmath<1.4,>=1.1.0 in c:\\users\\dell\\appdata\\local\\programs\\python\\python312\\lib\\site-packages (from sympy->torch) (1.3.0)\n",
      "Note: you may need to restart the kernel to use updated packages.\n"
     ]
    }
   ],
   "source": [
    "pip install torch torchvision\n"
   ]
  },
  {
   "cell_type": "code",
   "execution_count": 44,
   "metadata": {},
   "outputs": [
    {
     "name": "stdout",
     "output_type": "stream",
     "text": [
      "Name: Whiskers, Age: 3, Breed: Tabby\n",
      "Whiskers says: Meow!\n"
     ]
    }
   ],
   "source": [
    "class Cat:\n",
    "    def __init__(self, name, age, breed):\n",
    "        self.name = name\n",
    "        self.age = age\n",
    "        self.breed = breed\n",
    "\n",
    "    def meow(self):\n",
    "        return f\"{self.name} says: Meow!\"\n",
    "\n",
    "    def info(self):\n",
    "        return f\"Name: {self.name}, Age: {self.age}, Breed: {self.breed}\"\n",
    "\n",
    "if __name__ == \"__main__\":\n",
    "    my_cat = Cat(name=\"Whiskers\", age=3, breed=\"Tabby\")\n",
    "    print(my_cat.info())\n",
    "    print(my_cat.meow())"
   ]
  },
  {
   "cell_type": "code",
   "execution_count": 1,
   "metadata": {},
   "outputs": [
    {
     "name": "stdout",
     "output_type": "stream",
     "text": [
      "Defaulting to user installation because normal site-packages is not writeable\n",
      "Requirement already satisfied: Pillow in c:\\users\\dell\\appdata\\local\\packages\\pythonsoftwarefoundation.python.3.12_qbz5n2kfra8p0\\localcache\\local-packages\\python312\\site-packages (10.4.0)\n",
      "Note: you may need to restart the kernel to use updated packages.\n"
     ]
    }
   ],
   "source": [
    "pip install Pillow"
   ]
  },
  {
   "cell_type": "code",
   "execution_count": 3,
   "metadata": {},
   "outputs": [
    {
     "name": "stdout",
     "output_type": "stream",
     "text": [
      "Defaulting to user installation because normal site-packages is not writeableNote: you may need to restart the kernel to use updated packages.\n",
      "\n",
      "Collecting matplotlib\n",
      "  Using cached matplotlib-3.9.2-cp312-cp312-win_amd64.whl.metadata (11 kB)\n",
      "Collecting contourpy>=1.0.1 (from matplotlib)\n",
      "  Using cached contourpy-1.3.0-cp312-cp312-win_amd64.whl.metadata (5.4 kB)\n",
      "Collecting cycler>=0.10 (from matplotlib)\n",
      "  Using cached cycler-0.12.1-py3-none-any.whl.metadata (3.8 kB)\n",
      "Collecting fonttools>=4.22.0 (from matplotlib)\n",
      "  Using cached fonttools-4.53.1-cp312-cp312-win_amd64.whl.metadata (165 kB)\n",
      "Collecting kiwisolver>=1.3.1 (from matplotlib)\n",
      "  Using cached kiwisolver-1.4.7-cp312-cp312-win_amd64.whl.metadata (6.4 kB)\n",
      "Collecting numpy>=1.23 (from matplotlib)\n",
      "  Using cached numpy-2.1.1-cp312-cp312-win_amd64.whl.metadata (59 kB)\n",
      "Requirement already satisfied: packaging>=20.0 in c:\\users\\dell\\appdata\\local\\packages\\pythonsoftwarefoundation.python.3.12_qbz5n2kfra8p0\\localcache\\local-packages\\python312\\site-packages (from matplotlib) (24.1)\n",
      "Requirement already satisfied: pillow>=8 in c:\\users\\dell\\appdata\\local\\packages\\pythonsoftwarefoundation.python.3.12_qbz5n2kfra8p0\\localcache\\local-packages\\python312\\site-packages (from matplotlib) (10.4.0)\n",
      "Collecting pyparsing>=2.3.1 (from matplotlib)\n",
      "  Using cached pyparsing-3.1.4-py3-none-any.whl.metadata (5.1 kB)\n",
      "Requirement already satisfied: python-dateutil>=2.7 in c:\\users\\dell\\appdata\\local\\packages\\pythonsoftwarefoundation.python.3.12_qbz5n2kfra8p0\\localcache\\local-packages\\python312\\site-packages (from matplotlib) (2.9.0.post0)\n",
      "Requirement already satisfied: six>=1.5 in c:\\users\\dell\\appdata\\local\\packages\\pythonsoftwarefoundation.python.3.12_qbz5n2kfra8p0\\localcache\\local-packages\\python312\\site-packages (from python-dateutil>=2.7->matplotlib) (1.16.0)\n",
      "Using cached matplotlib-3.9.2-cp312-cp312-win_amd64.whl (7.8 MB)\n",
      "Using cached contourpy-1.3.0-cp312-cp312-win_amd64.whl (218 kB)\n",
      "Using cached cycler-0.12.1-py3-none-any.whl (8.3 kB)\n",
      "Using cached fonttools-4.53.1-cp312-cp312-win_amd64.whl (2.2 MB)\n",
      "Using cached kiwisolver-1.4.7-cp312-cp312-win_amd64.whl (55 kB)\n",
      "Using cached numpy-2.1.1-cp312-cp312-win_amd64.whl (12.6 MB)\n",
      "Using cached pyparsing-3.1.4-py3-none-any.whl (104 kB)\n",
      "Installing collected packages: pyparsing, numpy, kiwisolver, fonttools, cycler, contourpy, matplotlib\n",
      "Successfully installed contourpy-1.3.0 cycler-0.12.1 fonttools-4.53.1 kiwisolver-1.4.7 matplotlib-3.9.2 numpy-2.1.1 pyparsing-3.1.4\n"
     ]
    }
   ],
   "source": [
    "pip install matplotlib"
   ]
  },
  {
   "cell_type": "code",
   "execution_count": 5,
   "metadata": {},
   "outputs": [
    {
     "data": {
      "image/png": "[encoded data removed]",
      "text/plain": [
       "<Figure size 640x480 with 1 Axes>"
      ]
     },
     "metadata": {},
     "output_type": "display_data"
    }
   ],
   "source": [
    "import matplotlib.pyplot as plt\n",
    "import numpy as np\n",
    "\n",
    "# Simple cat drawing using matplotlib\n",
    "def draw_cat():\n",
    "    fig, ax = plt.subplots()\n",
    "\n",
    "    # Cat body\n",
    "    body = plt.Circle((0.5, 0.5), 0.3, color='gray')\n",
    "    ax.add_artist(body)\n",
    "\n",
    "    # Cat ears\n",
    "    ear_left = plt.Polygon([[0.25, 0.75], [0.15, 1.0], [0.35, 0.75]], color='gray')\n",
    "    ear_right = plt.Polygon([[0.75, 0.75], [0.85, 1.0], [0.65, 0.75]], color='gray')\n",
    "    ax.add_artist(ear_left)\n",
    "    ax.add_artist(ear_right)\n",
    "\n",
    "    # Cat eyes\n",
    "    eye_left = plt.Circle((0.35, 0.55), 0.05, color='white')\n",
    "    eye_right = plt.Circle((0.65, 0.55), 0.05, color='white')\n",
    "    ax.add_artist(eye_left)\n",
    "    ax.add_artist(eye_right)\n",
    "\n",
    "    # Cat pupils\n",
    "    pupil_left = plt.Circle((0.35, 0.55), 0.02, color='black')\n",
    "    pupil_right = plt.Circle((0.65, 0.55), 0.02, color='black')\n",
    "    ax.add_artist(pupil_left)\n",
    "    ax.add_artist(pupil_right)\n",
    "\n",
    "    # Cat nose\n",
    "    nose = plt.Circle((0.5, 0.45), 0.03, color='pink')\n",
    "    ax.add_artist(nose)\n",
    "\n",
    "    # Cat mouth\n",
    "    ax.plot([0.5, 0.45], [0.4, 0.35], color='black')\n",
    "    ax.plot([0.5, 0.55], [0.4, 0.35], color='black')\n",
    "\n",
    "    ax.set_xlim(0, 1)\n",
    "    ax.set_ylim(0, 1)\n",
    "    ax.set_aspect('equal')\n",
    "    plt.axis('off')  # Turn off axis\n",
    "    plt.show()\n",
    "\n",
    "# Call the function to draw the cat\n",
    "draw_cat()"
   ]
  },
  {
   "cell_type": "code",
   "execution_count": 13,
   "metadata": {},
   "outputs": [
    {
     "data": {
      "image/png": "[encoded data removed]",
      "text/plain": [
       "<Figure size 640x480 with 1 Axes>"
      ]
     },
     "metadata": {},
     "output_type": "display_data"
    }
   ],
   "source": [
    "import matplotlib.pyplot as plt\n",
    "import numpy as np\n",
    "\n",
    "def draw_cartoon_cat():\n",
    "    fig, ax = plt.subplots()\n",
    "\n",
    "    # Cat body\n",
    "    body = plt.Circle((0.5, 0.5), 0.3, color='lightblue')\n",
    "    ax.add_artist(body)\n",
    "\n",
    "    # Cat ears\n",
    "    ear_left = plt.Polygon([[0.25, 0.7], [0.15, 1.0], [0.35, 0.7]], color='lightblue')\n",
    "    ear_right = plt.Polygon([[0.75, 0.7], [0.85, 1.0], [0.65, 0.7]], color='lightblue')\n",
    "    ax.add_artist(ear_left)\n",
    "    ax.add_artist(ear_right)\n",
    "\n",
    "    # Cat eyes\n",
    "    eye_left = plt.Circle((0.35, 0.55), 0.05, color='white')\n",
    "    eye_right = plt.Circle((0.65, 0.55), 0.05, color='white')\n",
    "    ax.add_artist(eye_left)\n",
    "    ax.add_artist(eye_right)\n",
    "\n",
    "    # Cat pupils\n",
    "    pupil_left = plt.Circle((0.35, 0.55), 0.02, color='black')\n",
    "    pupil_right = plt.Circle((0.65, 0.55), 0.02, color='black')\n",
    "    ax.add_artist(pupil_left)\n",
    "    ax.add_artist(pupil_right)\n",
    "\n",
    "    # Cat nose\n",
    "    nose = plt.Circle((0.5, 0.45), 0.03, color='pink')\n",
    "    ax.add_artist(nose)\n",
    "\n",
    "    # Cat mouth\n",
    "    ax.plot([0.5, 0.45], [0.4, 0.35], color='black')\n",
    "    ax.plot([0.5, 0.55], [0.4, 0.35], color='black')\n",
    "    \n",
    "    # Cat whiskers\n",
    "    ax.plot([0.4, 0.1], [0.4, 0.4], color='black')\n",
    "    ax.plot([0.4, 0.1], [0.42, 0.42], color='black')\n",
    "    ax.plot([0.4, 0.1], [0.38, 0.38], color='black')\n",
    "\n",
    "    ax.plot([0.6, 0.9], [0.4, 0.4], color='black')\n",
    "    ax.plot([0.6, 0.9], [0.42, 0.42], color='black')\n",
    "    ax.plot([0.6, 0.9], [0.38, 0.38], color='black')\n",
    "\n",
    "    # Setting limits and aspect\n",
    "    ax.set_xlim(0, 1)\n",
    "    ax.set_ylim(0, 1)\n",
    "    ax.set_aspect('equal')\n",
    "    plt.axis('off')  # Turn off axis\n",
    "    plt.title('Cartoon Cat')\n",
    "    plt.show()\n",
    "\n",
    "# Call the function to draw the cartoon cat\n",
    "draw_cartoon_cat()"
   ]
  },
  {
   "cell_type": "code",
   "execution_count": 8,
   "metadata": {},
   "outputs": [
    {
     "data": {
      "image/png": "[encoded data removed]",
      "text/plain": [
       "<Figure size 640x480 with 1 Axes>"
      ]
     },
     "metadata": {},
     "output_type": "display_data"
    }
   ],
   "source": [
    "def draw_cat_face():\n",
    "    fig, ax = plt.subplots()\n",
    "\n",
    "    # Cat face\n",
    "    face = plt.Circle((0.5, 0.5), 0.3, color='lightyellow')\n",
    "    ax.add_artist(face)\n",
    "\n",
    "    # Cat ears\n",
    "    ear_left = plt.Polygon([[0.2, 0.7], [0.1, 1.0], [0.3, 0.7]], color='lightyellow')\n",
    "    ear_right = plt.Polygon([[0.8, 0.7], [0.9, 1.0], [0.7, 0.7]], color='lightyellow')\n",
    "    ax.add_artist(ear_left)\n",
    "    ax.add_artist(ear_right)\n",
    "\n",
    "    # Cat eyes\n",
    "    eye_left = plt.Circle((0.35, 0.55), 0.05, color='white')\n",
    "    eye_right = plt.Circle((0.65, 0.55), 0.05, color='white')\n",
    "    ax.add_artist(eye_left)\n",
    "    ax.add_artist(eye_right)\n",
    "\n",
    "    # Cat pupils\n",
    "    pupil_left = plt.Circle((0.35, 0.55), 0.02, color='black')\n",
    "    pupil_right = plt.Circle((0.65, 0.55), 0.02, color='black')\n",
    "    ax.add_artist(pupil_left)\n",
    "    ax.add_artist(pupil_right)\n",
    "\n",
    "    # Cat nose\n",
    "    nose = plt.Circle((0.5, 0.45), 0.03, color='pink')\n",
    "    ax.add_artist(nose)\n",
    "\n",
    "    # Cat mouth\n",
    "    ax.plot([0.5, 0.45], [0.4, 0.35], color='black')\n",
    "    ax.plot([0.5, 0.55], [0.4, 0.35], color='black')\n",
    "\n",
    "    # Whiskers\n",
    "    ax.plot([0.4, 0.1], [0.4, 0.4], color='black')\n",
    "    ax.plot([0.4, 0.1], [0.42, 0.42], color='black')\n",
    "    ax.plot([0.4, 0.1], [0.38, 0.38], color='black')\n",
    "    \n",
    "    ax.plot([0.6, 0.9], [0.4, 0.4], color='black')\n",
    "    ax.plot([0.6, 0.9], [0.42, 0.42], color='black')\n",
    "    ax.plot([0.6, 0.9], [0.38, 0.38], color='black')\n",
    "\n",
    "    # Setting limits and aspect\n",
    "    ax.set_xlim(0, 1)\n",
    "    ax.set_ylim(0, 1)\n",
    "    ax.set_aspect('equal')\n",
    "    plt.axis('off')  # Turn off axis\n",
    "    plt.title('Cat Face')\n",
    "    plt.show()\n",
    "\n",
    "# Call the function to draw the cat face\n",
    "draw_cat_face()\n"
   ]
  },
  {
   "cell_type": "code",
   "execution_count": 3,
   "metadata": {},
   "outputs": [
    {
     "data": {
      "image/png": "[encoded data removed]",
      "text/plain": [
       "<Figure size 640x480 with 1 Axes>"
      ]
     },
     "metadata": {},
     "output_type": "display_data"
    }
   ],
   "source": [
    "import numpy as np\n",
    "import matplotlib.pyplot as plt\n",
    "from mpl_toolkits.mplot3d import Axes3D\n",
    "\n",
    "# Function to create a dolphin-like shape using parametric equations\n",
    "def dolphin_shape(t):\n",
    "    x = 16 * np.sin(t) ** 3\n",
    "    y = 13 * np.cos(t) - 5 * np.cos(2 * t) - 2 * np.cos(3 * t) - np.cos(4 * t)\n",
    "    z = 5 * np.sin(t)\n",
    "    return x, y, z\n",
    "\n",
    "# Generate values for t\n",
    "t = np.linspace(0, 2 * np.pi, 100)\n",
    "\n",
    "# Get dolphin coordinates\n",
    "x, y, z = dolphin_shape(t)\n",
    "\n",
    "# Set up the 3D plot\n",
    "fig = plt.figure()\n",
    "ax = fig.add_subplot(111, projection='3d')\n",
    "\n",
    "# Plot the dolphin shape\n",
    "ax.plot(x, y, z, color='b')\n",
    "ax.set_title('3D Dolphin Shape')\n",
    "ax.set_xlabel('X axis')\n",
    "ax.set_ylabel('Y axis')\n",
    "ax.set_zlabel('Z axis')\n",
    "\n",
    "# Show the plot\n",
    "plt.show()"
   ]
  },
  {
   "cell_type": "code",
   "execution_count": 4,
   "metadata": {},
   "outputs": [
    {
     "data": {
      "image/png": "[encoded data removed]",
      "text/plain": [
       "<Figure size 640x480 with 1 Axes>"
      ]
     },
     "metadata": {},
     "output_type": "display_data"
    }
   ],
   "source": [
    "import numpy as np\n",
    "import matplotlib.pyplot as plt\n",
    "from mpl_toolkits.mplot3d import Axes3D\n",
    "\n",
    "# Function to create a dolphin-like shape using parametric equations\n",
    "def dolphin_shape(t):\n",
    "    x = 16 * np.sin(t) ** 3\n",
    "    y = 13 * np.cos(t) - 5 * np.cos(2 * t) - 2 * np.cos(3 * t) - np.cos(4 * t)\n",
    "    z = 5 * np.sin(t)\n",
    "    return x, y, z\n",
    "\n",
    "# Generate values for t\n",
    "t = np.linspace(0, 2 * np.pi, 100)\n",
    "\n",
    "# Get dolphin coordinates\n",
    "x, y, z = dolphin_shape(t)\n",
    "\n",
    "# Create a color array based on the angle\n",
    "colors = plt.cm.viridis(np.linspace(0, 1, len(t)))\n",
    "\n",
    "# Set up the 3D plot\n",
    "fig = plt.figure()\n",
    "ax = fig.add_subplot(111, projection='3d')\n",
    "\n",
    "# Plot the dolphin shape with color\n",
    "ax.plot(x, y, z, color='b')  # Outline\n",
    "ax.scatter(x, y, z, c=colors, marker='o')  # Colorful points\n",
    "ax.set_title('Colorful 3D Dolphin Shape')\n",
    "ax.set_xlabel('X axis')\n",
    "ax.set_ylabel('Y axis')\n",
    "ax.set_zlabel('Z axis')\n",
    "\n",
    "# Show the plot\n",
    "plt.show()"
   ]
  },
  {
   "cell_type": "code",
   "execution_count": 6,
   "metadata": {},
   "outputs": [
    {
     "name": "stdout",
     "output_type": "stream",
     "text": [
      "Defaulting to user installation because normal site-packages is not writeable\n",
      "Collecting mayavi\n",
      "  Downloading mayavi-4.8.2.tar.gz (7.1 MB)\n",
      "     ---------------------------------------- 0.0/7.1 MB ? eta -:--:--\n",
      "     ---------------------------------------- 0.0/7.1 MB ? eta -:--:--\n",
      "     - -------------------------------------- 0.3/7.1 MB ? eta -:--:--\n",
      "     ----- ---------------------------------- 1.0/7.1 MB 3.1 MB/s eta 0:00:02\n",
      "     ------------- -------------------------- 2.4/7.1 MB 4.3 MB/s eta 0:00:02\n",
      "     ------------------- -------------------- 3.4/7.1 MB 4.5 MB/s eta 0:00:01\n",
      "     ------------------------- -------------- 4.5/7.1 MB 4.6 MB/s eta 0:00:01\n",
      "     ------------------------------- -------- 5.5/7.1 MB 4.7 MB/s eta 0:00:01\n",
      "     -------------------------------------- - 6.8/7.1 MB 4.8 MB/s eta 0:00:01\n",
      "     ---------------------------------------- 7.1/7.1 MB 4.8 MB/s eta 0:00:00\n",
      "  Installing build dependencies: started\n",
      "  Installing build dependencies: finished with status 'done'\n",
      "  Getting requirements to build wheel: started\n",
      "  Getting requirements to build wheel: finished with status 'done'\n",
      "  Preparing metadata (pyproject.toml): started\n",
      "  Preparing metadata (pyproject.toml): finished with status 'done'\n",
      "Collecting apptools (from mayavi)\n",
      "  Downloading apptools-5.3.0-py3-none-any.whl.metadata (4.3 kB)\n",
      "Collecting envisage (from mayavi)\n",
      "  Downloading envisage-7.0.3-py3-none-any.whl.metadata (5.2 kB)\n",
      "Requirement already satisfied: numpy in c:\\users\\dell\\appdata\\local\\packages\\pythonsoftwarefoundation.python.3.12_qbz5n2kfra8p0\\localcache\\local-packages\\python312\\site-packages (from mayavi) (2.1.1)\n",
      "Collecting pyface>=6.1.1 (from mayavi)\n",
      "  Downloading pyface-8.0.0-py3-none-any.whl.metadata (7.7 kB)\n",
      "Requirement already satisfied: pygments in c:\\users\\dell\\appdata\\local\\packages\\pythonsoftwarefoundation.python.3.12_qbz5n2kfra8p0\\localcache\\local-packages\\python312\\site-packages (from mayavi) (2.18.0)\n",
      "Collecting traits>=6.0.0 (from mayavi)\n",
      "  Downloading traits-6.4.3-cp312-cp312-win_amd64.whl.metadata (5.2 kB)\n",
      "Collecting traitsui>=7.0.0 (from mayavi)\n",
      "  Downloading traitsui-8.0.0-py3-none-any.whl.metadata (6.8 kB)\n",
      "Requirement already satisfied: packaging in c:\\users\\dell\\appdata\\local\\packages\\pythonsoftwarefoundation.python.3.12_qbz5n2kfra8p0\\localcache\\local-packages\\python312\\site-packages (from mayavi) (24.1)\n",
      "Collecting vtk (from mayavi)\n",
      "  Using cached vtk-9.3.1-cp312-cp312-win_amd64.whl.metadata (5.3 kB)\n",
      "Collecting setuptools (from envisage->mayavi)\n",
      "  Using cached setuptools-75.1.0-py3-none-any.whl.metadata (6.9 kB)\n",
      "Requirement already satisfied: matplotlib>=2.0.0 in c:\\users\\dell\\appdata\\local\\packages\\pythonsoftwarefoundation.python.3.12_qbz5n2kfra8p0\\localcache\\local-packages\\python312\\site-packages (from vtk->mayavi) (3.9.2)\n",
      "Requirement already satisfied: contourpy>=1.0.1 in c:\\users\\dell\\appdata\\local\\packages\\pythonsoftwarefoundation.python.3.12_qbz5n2kfra8p0\\localcache\\local-packages\\python312\\site-packages (from matplotlib>=2.0.0->vtk->mayavi) (1.3.0)\n",
      "Requirement already satisfied: cycler>=0.10 in c:\\users\\dell\\appdata\\local\\packages\\pythonsoftwarefoundation.python.3.12_qbz5n2kfra8p0\\localcache\\local-packages\\python312\\site-packages (from matplotlib>=2.0.0->vtk->mayavi) (0.12.1)\n",
      "Requirement already satisfied: fonttools>=4.22.0 in c:\\users\\dell\\appdata\\local\\packages\\pythonsoftwarefoundation.python.3.12_qbz5n2kfra8p0\\localcache\\local-packages\\python312\\site-packages (from matplotlib>=2.0.0->vtk->mayavi) (4.53.1)\n",
      "Requirement already satisfied: kiwisolver>=1.3.1 in c:\\users\\dell\\appdata\\local\\packages\\pythonsoftwarefoundation.python.3.12_qbz5n2kfra8p0\\localcache\\local-packages\\python312\\site-packages (from matplotlib>=2.0.0->vtk->mayavi) (1.4.7)\n",
      "Requirement already satisfied: pillow>=8 in c:\\users\\dell\\appdata\\local\\packages\\pythonsoftwarefoundation.python.3.12_qbz5n2kfra8p0\\localcache\\local-packages\\python312\\site-packages (from matplotlib>=2.0.0->vtk->mayavi) (10.4.0)\n",
      "Requirement already satisfied: pyparsing>=2.3.1 in c:\\users\\dell\\appdata\\local\\packages\\pythonsoftwarefoundation.python.3.12_qbz5n2kfra8p0\\localcache\\local-packages\\python312\\site-packages (from matplotlib>=2.0.0->vtk->mayavi) (3.1.4)\n",
      "Requirement already satisfied: python-dateutil>=2.7 in c:\\users\\dell\\appdata\\local\\packages\\pythonsoftwarefoundation.python.3.12_qbz5n2kfra8p0\\localcache\\local-packages\\python312\\site-packages (from matplotlib>=2.0.0->vtk->mayavi) (2.9.0.post0)\n",
      "Requirement already satisfied: six>=1.5 in c:\\users\\dell\\appdata\\local\\packages\\pythonsoftwarefoundation.python.3.12_qbz5n2kfra8p0\\localcache\\local-packages\\python312\\site-packages (from python-dateutil>=2.7->matplotlib>=2.0.0->vtk->mayavi) (1.16.0)\n",
      "Downloading pyface-8.0.0-py3-none-any.whl (1.3 MB)\n",
      "   ---------------------------------------- 0.0/1.3 MB ? eta -:--:--\n",
      "   -------------------------------- ------- 1.0/1.3 MB 6.3 MB/s eta 0:00:01\n",
      "   ---------------------------------------- 1.3/1.3 MB 5.1 MB/s eta 0:00:00\n",
      "Downloading traits-6.4.3-cp312-cp312-win_amd64.whl (5.0 MB)\n",
      "   ---------------------------------------- 0.0/5.0 MB ? eta -:--:--\n",
      "   -------- ------------------------------- 1.0/5.0 MB 6.3 MB/s eta 0:00:01\n",
      "   -------------- ------------------------- 1.8/5.0 MB 5.0 MB/s eta 0:00:01\n",
      "   ----------------------- ---------------- 2.9/5.0 MB 4.5 MB/s eta 0:00:01\n",
      "   ------------------------- -------------- 3.1/5.0 MB 4.2 MB/s eta 0:00:01\n",
      "   ----------------------------- ---------- 3.7/5.0 MB 3.4 MB/s eta 0:00:01\n",
      "   ------------------------------- -------- 3.9/5.0 MB 3.1 MB/s eta 0:00:01\n",
      "   --------------------------------- ------ 4.2/5.0 MB 2.9 MB/s eta 0:00:01\n",
      "   ----------------------------------- ---- 4.5/5.0 MB 2.8 MB/s eta 0:00:01\n",
      "   ------------------------------------- -- 4.7/5.0 MB 2.6 MB/s eta 0:00:01\n",
      "   ---------------------------------------- 5.0/5.0 MB 2.5 MB/s eta 0:00:00\n",
      "Downloading traitsui-8.0.0-py3-none-any.whl (1.5 MB)\n",
      "   ---------------------------------------- 0.0/1.5 MB ? eta -:--:--\n",
      "   ---------------------------------------- 0.0/1.5 MB ? eta -:--:--\n",
      "   ------------- -------------------------- 0.5/1.5 MB 2.1 MB/s eta 0:00:01\n",
      "   ------------- -------------------------- 0.5/1.5 MB 2.1 MB/s eta 0:00:01\n",
      "   -------------------- ------------------- 0.8/1.5 MB 1.4 MB/s eta 0:00:01\n",
      "   --------------------------- ------------ 1.0/1.5 MB 1.4 MB/s eta 0:00:01\n",
      "   ---------------------------------------- 1.5/1.5 MB 1.3 MB/s eta 0:00:00\n",
      "Downloading apptools-5.3.0-py3-none-any.whl (230 kB)\n",
      "Downloading envisage-7.0.3-py3-none-any.whl (268 kB)\n",
      "Using cached vtk-9.3.1-cp312-cp312-win_amd64.whl (52.5 MB)\n",
      "Using cached setuptools-75.1.0-py3-none-any.whl (1.2 MB)\n",
      "Building wheels for collected packages: mayavi\n",
      "  Building wheel for mayavi (pyproject.toml): started\n",
      "  Building wheel for mayavi (pyproject.toml): finished with status 'done'\n",
      "  Created wheel for mayavi: filename=mayavi-4.8.2-py3-none-any.whl size=18581728 sha256=a8aad95526c8a906e423fe1403bd8830046e02315a7d17d7a1b2ca0807f9faf1\n",
      "  Stored in directory: c:\\users\\dell\\appdata\\local\\pip\\cache\\wheels\\ea\\28\\1e\\e6c124186dbf4ad72e0304757a9a5df4278e7ffcf1815b187c\n",
      "Successfully built mayavi\n",
      "Installing collected packages: traits, setuptools, pyface, apptools, vtk, traitsui, envisage, mayavi\n",
      "Successfully installed apptools-5.3.0 envisage-7.0.3 mayavi-4.8.2 pyface-8.0.0 setuptools-75.1.0 traits-6.4.3 traitsui-8.0.0 vtk-9.3.1\n",
      "Note: you may need to restart the kernel to use updated packages.\n"
     ]
    }
   ],
   "source": [
    "pip install mayavi"
   ]
  },
  {
   "cell_type": "code",
   "execution_count": 10,
   "metadata": {},
   "outputs": [
    {
     "name": "stdout",
     "output_type": "stream",
     "text": [
      "Defaulting to user installation because normal site-packages is not writeable\n",
      "Requirement already satisfied: vtk in c:\\users\\dell\\appdata\\local\\packages\\pythonsoftwarefoundation.python.3.12_qbz5n2kfra8p0\\localcache\\local-packages\\python312\\site-packages (9.3.1)\n",
      "Requirement already satisfied: matplotlib>=2.0.0 in c:\\users\\dell\\appdata\\local\\packages\\pythonsoftwarefoundation.python.3.12_qbz5n2kfra8p0\\localcache\\local-packages\\python312\\site-packages (from vtk) (3.9.2)\n",
      "Requirement already satisfied: contourpy>=1.0.1 in c:\\users\\dell\\appdata\\local\\packages\\pythonsoftwarefoundation.python.3.12_qbz5n2kfra8p0\\localcache\\local-packages\\python312\\site-packages (from matplotlib>=2.0.0->vtk) (1.3.0)\n",
      "Requirement already satisfied: cycler>=0.10 in c:\\users\\dell\\appdata\\local\\packages\\pythonsoftwarefoundation.python.3.12_qbz5n2kfra8p0\\localcache\\local-packages\\python312\\site-packages (from matplotlib>=2.0.0->vtk) (0.12.1)\n",
      "Requirement already satisfied: fonttools>=4.22.0 in c:\\users\\dell\\appdata\\local\\packages\\pythonsoftwarefoundation.python.3.12_qbz5n2kfra8p0\\localcache\\local-packages\\python312\\site-packages (from matplotlib>=2.0.0->vtk) (4.53.1)\n",
      "Requirement already satisfied: kiwisolver>=1.3.1 in c:\\users\\dell\\appdata\\local\\packages\\pythonsoftwarefoundation.python.3.12_qbz5n2kfra8p0\\localcache\\local-packages\\python312\\site-packages (from matplotlib>=2.0.0->vtk) (1.4.7)\n",
      "Requirement already satisfied: numpy>=1.23 in c:\\users\\dell\\appdata\\local\\packages\\pythonsoftwarefoundation.python.3.12_qbz5n2kfra8p0\\localcache\\local-packages\\python312\\site-packages (from matplotlib>=2.0.0->vtk) (2.1.1)\n",
      "Requirement already satisfied: packaging>=20.0 in c:\\users\\dell\\appdata\\local\\packages\\pythonsoftwarefoundation.python.3.12_qbz5n2kfra8p0\\localcache\\local-packages\\python312\\site-packages (from matplotlib>=2.0.0->vtk) (24.1)\n",
      "Requirement already satisfied: pillow>=8 in c:\\users\\dell\\appdata\\local\\packages\\pythonsoftwarefoundation.python.3.12_qbz5n2kfra8p0\\localcache\\local-packages\\python312\\site-packages (from matplotlib>=2.0.0->vtk) (10.4.0)\n",
      "Requirement already satisfied: pyparsing>=2.3.1 in c:\\users\\dell\\appdata\\local\\packages\\pythonsoftwarefoundation.python.3.12_qbz5n2kfra8p0\\localcache\\local-packages\\python312\\site-packages (from matplotlib>=2.0.0->vtk) (3.1.4)\n",
      "Requirement already satisfied: python-dateutil>=2.7 in c:\\users\\dell\\appdata\\local\\packages\\pythonsoftwarefoundation.python.3.12_qbz5n2kfra8p0\\localcache\\local-packages\\python312\\site-packages (from matplotlib>=2.0.0->vtk) (2.9.0.post0)\n",
      "Requirement already satisfied: six>=1.5 in c:\\users\\dell\\appdata\\local\\packages\\pythonsoftwarefoundation.python.3.12_qbz5n2kfra8p0\\localcache\\local-packages\\python312\\site-packages (from python-dateutil>=2.7->matplotlib>=2.0.0->vtk) (1.16.0)\n",
      "Note: you may need to restart the kernel to use updated packages.\n"
     ]
    }
   ],
   "source": [
    "pip install vtk"
   ]
  },
  {
   "cell_type": "code",
   "execution_count": 12,
   "metadata": {},
   "outputs": [],
   "source": [
    "pip uninstall mayavi"
   ]
  }
 ],
 "metadata": {
  "kernelspec": {
   "display_name": "Python 3",
   "language": "python",
   "name": "python3"
  },
  "language_info": {
   "codemirror_mode": {
    "name": "ipython",
    "version": 3
   },
   "file_extension": ".py",
   "mimetype": "text/x-python",
   "name": "python",
   "nbconvert_exporter": "python",
   "pygments_lexer": "ipython3",
   "version": "3.12.6"
  }
 },
 "nbformat": 4,
 "nbformat_minor": 2
}
